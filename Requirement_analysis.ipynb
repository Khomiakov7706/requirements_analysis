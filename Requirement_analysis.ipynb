{
  "cells": [
    {
      "cell_type": "markdown",
      "metadata": {
        "id": "view-in-github",
        "colab_type": "text"
      },
      "source": [
        "<a href=\"https://colab.research.google.com/github/Khomiakov7706/requirements_analysis/blob/develop/Requirement_analysis.ipynb\" target=\"_parent\"><img src=\"https://colab.research.google.com/assets/colab-badge.svg\" alt=\"Open In Colab\"/></a>"
      ]
    },
    {
      "cell_type": "code",
      "execution_count": 324,
      "id": "0da7ec38",
      "metadata": {
        "id": "0da7ec38"
      },
      "outputs": [],
      "source": [
        "#@title libraries import\n",
        "\n",
        "#import os\n",
        "#import sys\n",
        "import pandas as pd\n",
        "import numpy as np\n",
        "import datetime\n",
        "from matplotlib import pyplot as plt\n",
        "import seaborn as sns\n",
        "from IPython.display import display, Markdown\n",
        "\n",
        "#ML libraries\n",
        "from sklearn import metrics\n",
        "from sklearn.preprocessing import MinMaxScaler\n",
        "from sklearn.feature_extraction.text import CountVectorizer\n",
        "from sklearn.naive_bayes import MultinomialNB\n",
        "from sklearn import metrics\n",
        "\n",
        "plt.rcParams.update({'figure.max_open_warning': 0})\n",
        "pd.set_option('display.max_colwidth',1000)\n",
        "pd.set_option('display.max_columns', 500)"
      ]
    },
    {
      "cell_type": "markdown",
      "source": [
        "#Чтение и обработка начального текста"
      ],
      "metadata": {
        "id": "bSXplQqbTEjr"
      },
      "id": "bSXplQqbTEjr"
    },
    {
      "cell_type": "code",
      "source": [
        "#@title Data URL. { display-mode: \"form\" }\n",
        "data_url = 'https://raw.githubusercontent.com/Khomiakov7706/requirements_analysis/main/train_test_withcols1.csv' #@param {type: 'string'}"
      ],
      "metadata": {
        "id": "Pcbg_k65Z4qz"
      },
      "id": "Pcbg_k65Z4qz",
      "execution_count": 252,
      "outputs": []
    },
    {
      "cell_type": "code",
      "execution_count": 253,
      "id": "3af6906a",
      "metadata": {
        "id": "3af6906a"
      },
      "outputs": [],
      "source": [
        "data = pd.read_csv(data_url)"
      ]
    },
    {
      "cell_type": "code",
      "execution_count": 254,
      "id": "2552afa7",
      "metadata": {
        "id": "2552afa7"
      },
      "outputs": [],
      "source": [
        "data = data.drop('req_type', 1)\n",
        "data = data.drop('test_scenario', 1)\n",
        "\n",
        "#@title remove frase 'Verification of ' from requirements classes titles\n",
        "# Iterate over the columns in the DataFrame\n",
        "for column in data.columns:\n",
        "    # Replace the phrase \"Verification of \" with an empty string\n",
        "    new_column_name = column.replace(\"Verification of \", \"\")\n",
        "    \n",
        "    # Rename the column in the DataFrame\n",
        "    data.rename(columns={column: new_column_name}, inplace=True)\n",
        "\n",
        "data.rename(columns={'requirement': 'requirement_text',\n",
        "                     'the Authentication and Authorization process': 'Authentication and Authorization',\n",
        "                     'the Payment flow and details': 'Payment flow and details',\n",
        "                     'the Product Page and Products': 'Product Page and Products',\n",
        "                     'Security and Privacy Policy Set Up': 'Security and Privacy Policy',\n",
        "                     'Integration, Maintenance of the System and Web Standards': 'Integration'\n",
        "                     }, inplace=True)"
      ]
    },
    {
      "cell_type": "code",
      "execution_count": 255,
      "id": "10cc80dd",
      "metadata": {
        "id": "10cc80dd"
      },
      "outputs": [],
      "source": [
        "requirement_classes = list(data.columns[2:].values)"
      ]
    },
    {
      "cell_type": "code",
      "source": [
        "data['classes_count'] = data.iloc[:, 2:].astype(bool).sum(axis=1)"
      ],
      "metadata": {
        "id": "bjjevS_EMhsU"
      },
      "id": "bjjevS_EMhsU",
      "execution_count": 256,
      "outputs": []
    },
    {
      "cell_type": "markdown",
      "id": "0ff0abf6",
      "metadata": {
        "id": "0ff0abf6"
      },
      "source": [
        "# Лемматизация"
      ]
    },
    {
      "cell_type": "code",
      "execution_count": 257,
      "id": "2e669277",
      "metadata": {
        "colab": {
          "base_uri": "https://localhost:8080/"
        },
        "id": "2e669277",
        "outputId": "56457a37-2576-4fab-9b23-63377a16e2f9"
      },
      "outputs": [
        {
          "output_type": "stream",
          "name": "stderr",
          "text": [
            "[nltk_data] Downloading package wordnet to /root/nltk_data...\n",
            "[nltk_data]   Package wordnet is already up-to-date!\n"
          ]
        }
      ],
      "source": [
        "import nltk\n",
        "from nltk.stem import WordNetLemmatizer\n",
        "nltk.download('wordnet')\n",
        "\n",
        "lemmatizer = WordNetLemmatizer()"
      ]
    },
    {
      "cell_type": "code",
      "execution_count": 258,
      "id": "bcde1a6b",
      "metadata": {
        "id": "bcde1a6b"
      },
      "outputs": [],
      "source": [
        "def lemmatization(text):\n",
        "    '''a function for lemmatization'''\n",
        "    text = [lemmatizer.lemmatize(word.lower()) for word in text.split()]\n",
        "    # joining the list of words with space separator\n",
        "    return \" \".join(text)"
      ]
    },
    {
      "cell_type": "code",
      "execution_count": 259,
      "id": "22b2a0b2",
      "metadata": {
        "id": "22b2a0b2"
      },
      "outputs": [],
      "source": [
        "data['lemmatized_requirement'] = data['requirement_text'].apply(lemmatization)"
      ]
    },
    {
      "cell_type": "markdown",
      "id": "a1a7bd3c",
      "metadata": {
        "id": "a1a7bd3c"
      },
      "source": [
        "Убираем стоп-слова"
      ]
    },
    {
      "cell_type": "code",
      "execution_count": 260,
      "id": "63715691",
      "metadata": {
        "colab": {
          "base_uri": "https://localhost:8080/"
        },
        "id": "63715691",
        "outputId": "e389bea5-9324-4325-dc85-844ffa177c8c"
      },
      "outputs": [
        {
          "output_type": "stream",
          "name": "stderr",
          "text": [
            "[nltk_data] Downloading package stopwords to /root/nltk_data...\n",
            "[nltk_data]   Package stopwords is already up-to-date!\n"
          ]
        }
      ],
      "source": [
        "from nltk.corpus import stopwords\n",
        "import nltk\n",
        "nltk.download('stopwords')\n",
        "sw = stopwords.words('english')"
      ]
    },
    {
      "cell_type": "code",
      "execution_count": 261,
      "id": "4303ceb0",
      "metadata": {
        "id": "4303ceb0"
      },
      "outputs": [],
      "source": [
        "def stopwords(text):\n",
        "    '''a function for removing the stopword'''\n",
        "    # removing the stop words \n",
        "    text = [word for word in text.split() if word not in sw]\n",
        "    # joining the list of words with space separator\n",
        "    return \" \".join(text)"
      ]
    },
    {
      "cell_type": "code",
      "execution_count": 262,
      "id": "d38ba917",
      "metadata": {
        "id": "d38ba917"
      },
      "outputs": [],
      "source": [
        "data['lemmatized_requirement'] = data['lemmatized_requirement'].apply(stopwords)"
      ]
    },
    {
      "cell_type": "code",
      "execution_count": 263,
      "id": "58b9cb31",
      "metadata": {
        "id": "58b9cb31"
      },
      "outputs": [],
      "source": [
        "import re\n",
        "regex = re.compile('[^a-zA-Z а-яА-Я]')"
      ]
    },
    {
      "cell_type": "code",
      "execution_count": 264,
      "id": "7ddfef32",
      "metadata": {
        "id": "7ddfef32"
      },
      "outputs": [],
      "source": [
        "data.lemmatized_requirement = data.lemmatized_requirement.apply(lambda x: regex.sub('',x))"
      ]
    },
    {
      "cell_type": "markdown",
      "id": "ab6176b0",
      "metadata": {
        "id": "ab6176b0"
      },
      "source": [
        "# Выявление признаков из датасета"
      ]
    },
    {
      "cell_type": "markdown",
      "id": "4d0bf1e5",
      "metadata": {
        "id": "4d0bf1e5"
      },
      "source": [
        "## Синтетические признаки"
      ]
    },
    {
      "cell_type": "markdown",
      "id": "34944766",
      "metadata": {
        "id": "34944766"
      },
      "source": [
        "составляем набор признаков на основе текста Dataframe"
      ]
    },
    {
      "cell_type": "markdown",
      "id": "23cabd01",
      "metadata": {
        "id": "23cabd01"
      },
      "source": [
        "Количество слов в тексте требования "
      ]
    },
    {
      "cell_type": "code",
      "execution_count": 265,
      "id": "0cbae11b",
      "metadata": {
        "id": "0cbae11b"
      },
      "outputs": [],
      "source": [
        "data['words_in_requirement'] = (\n",
        "    data['requirement_text'].str.split().apply(len))"
      ]
    },
    {
      "cell_type": "markdown",
      "id": "2b5e17ad",
      "metadata": {
        "id": "2b5e17ad"
      },
      "source": [
        "Кол-во слов в тексте лемматизированного требования"
      ]
    },
    {
      "cell_type": "code",
      "execution_count": 266,
      "id": "b41a579c",
      "metadata": {
        "id": "b41a579c"
      },
      "outputs": [],
      "source": [
        "data['words_in_lemmatized_req'] = (\n",
        "    data['lemmatized_requirement'].str.split().apply(len))"
      ]
    },
    {
      "cell_type": "markdown",
      "id": "6ccdd3d2",
      "metadata": {
        "id": "6ccdd3d2"
      },
      "source": [
        "Кол-во исключенных слов при лемматизации"
      ]
    },
    {
      "cell_type": "code",
      "execution_count": 267,
      "id": "ccf692c3",
      "metadata": {
        "id": "ccf692c3"
      },
      "outputs": [],
      "source": [
        "data['words_diffence'] = (\n",
        "    data['words_in_requirement']-data['words_in_lemmatized_req'])"
      ]
    },
    {
      "cell_type": "code",
      "execution_count": 268,
      "id": "58b11bcb",
      "metadata": {
        "id": "58b11bcb"
      },
      "outputs": [],
      "source": [
        "additional_parameters = data.columns[-3:]"
      ]
    },
    {
      "cell_type": "markdown",
      "id": "ceb8d787",
      "metadata": {
        "id": "ceb8d787"
      },
      "source": [
        "## Формирование Bag of Words"
      ]
    },
    {
      "cell_type": "markdown",
      "id": "671a88bb",
      "metadata": {
        "id": "671a88bb"
      },
      "source": [
        "Составляем словарь слов для разных классов с указанием количества используемых слов"
      ]
    },
    {
      "cell_type": "code",
      "execution_count": 269,
      "id": "fc5d4e63",
      "metadata": {
        "id": "fc5d4e63"
      },
      "outputs": [],
      "source": [
        "class_dict = dict()\n",
        "for c in range(len(requirement_classes)):\n",
        "    class_dict[requirement_classes[c]] = data[data[requirement_classes[c]]==1]['lemmatized_requirement'].str.split(expand=True).unstack().value_counts().head(25)"
      ]
    },
    {
      "cell_type": "markdown",
      "id": "7440662a",
      "metadata": {
        "id": "7440662a"
      },
      "source": [
        "Составляем мешок уникальных слов для каждого класса"
      ]
    },
    {
      "cell_type": "code",
      "execution_count": 270,
      "id": "ecee6530",
      "metadata": {
        "id": "ecee6530"
      },
      "outputs": [],
      "source": [
        "bag_of_word = []\n",
        "for i in requirement_classes:\n",
        "    for j in class_dict[i].index:\n",
        "        if not (j in bag_of_word):\n",
        "            bag_of_word.append(j)"
      ]
    },
    {
      "cell_type": "code",
      "source": [
        "type(data)"
      ],
      "metadata": {
        "colab": {
          "base_uri": "https://localhost:8080/"
        },
        "id": "kFH_xmGoNuOp",
        "outputId": "9d980247-62b7-4a9a-c39a-97ed0294ed0a"
      },
      "id": "kFH_xmGoNuOp",
      "execution_count": 271,
      "outputs": [
        {
          "output_type": "execute_result",
          "data": {
            "text/plain": [
              "pandas.core.frame.DataFrame"
            ]
          },
          "metadata": {},
          "execution_count": 271
        }
      ]
    },
    {
      "cell_type": "markdown",
      "id": "351bab4f",
      "metadata": {
        "id": "351bab4f"
      },
      "source": [
        "Выписываем наиболее используемые слова как признаки"
      ]
    },
    {
      "cell_type": "code",
      "execution_count": 272,
      "id": "0c07c54a",
      "metadata": {
        "id": "0c07c54a"
      },
      "outputs": [],
      "source": [
        "bow_data = data.copy()\n",
        "for word in bag_of_word:\n",
        "    bow_data[word]=bow_data['lemmatized_requirement'].apply(lambda x: x.count(str (' ' + word + ' ')))"
      ]
    },
    {
      "cell_type": "code",
      "source": [
        "bow_data.head(1)"
      ],
      "metadata": {
        "colab": {
          "base_uri": "https://localhost:8080/",
          "height": 297
        },
        "id": "yM_V4w19OCMu",
        "outputId": "7e86e9cd-0901-4384-9a01-7401ceb60008"
      },
      "id": "yM_V4w19OCMu",
      "execution_count": 273,
      "outputs": [
        {
          "output_type": "execute_result",
          "data": {
            "text/plain": [
              "   req_no  \\\n",
              "0       1   \n",
              "\n",
              "                                                                                                       requirement_text  \\\n",
              "0  System shall allow users to update their billing and contact information via the “My Account” section of the website   \n",
              "\n",
              "   Account Details and Settings  Authentication and Authorization  \\\n",
              "0                             1                                 0   \n",
              "\n",
              "   Contact Details  Customer Support  Data Integrity and Consistency  \\\n",
              "0                1                 0                               0   \n",
              "\n",
              "   Design and Content  Downloads  Error Handling  Features and Functions  \\\n",
              "0                   0          0               0                       1   \n",
              "\n",
              "   Forms and Validation of Input  Home Page  Language Compatibility  Links  \\\n",
              "0                              0          0                       0      0   \n",
              "\n",
              "   Navigation  Notifications and Alerts  Password Policy and Setup  \\\n",
              "0           0                         0                          0   \n",
              "\n",
              "   Payment flow and details  Performance  Product Page and Products  \\\n",
              "0                         0            0                          0   \n",
              "\n",
              "   Search and Search Engine Optimization(SEO)  Security and Privacy Policy  \\\n",
              "0                                           0                            0   \n",
              "\n",
              "   Social Media Links and Icons  Supportability and Device Compatibility  \\\n",
              "0                             0                                        0   \n",
              "\n",
              "   Usability and Accessibility   all Web Pages in the website  Integration  \\\n",
              "0                             0                             0            0   \n",
              "\n",
              "   classes_count  \\\n",
              "0              3   \n",
              "\n",
              "                                                                      lemmatized_requirement  \\\n",
              "0  system shall allow user update billing contact information via my account section website   \n",
              "\n",
              "   words_in_requirement  words_in_lemmatized_req  words_diffence  user  \\\n",
              "0                    19                       13               6     1   \n",
              "\n",
              "   contact  account  information  field  shall  number  email  profile  \\\n",
              "0        1        1            1      0      1       0      0        0   \n",
              "\n",
              "   website  include  phone  address  id  password  form  u  page  throw  \\\n",
              "0        0        0      0        0   0         0     0  0     0      0   \n",
              "\n",
              "   numbers  link  characters  view  create  change  system  application  able  \\\n",
              "0        0     0           0     0       0       0       0            0     0   \n",
              "\n",
              "   login  authorized  access  must  register  use  data  log  administrator  \\\n",
              "0      0           0       0     0         0    0     0    0              0   \n",
              "\n",
              "   support  allow  verify  cm  site  person  provide  detail  resume  company  \\\n",
              "0        0      1       0   0     0       0        0       0       0        0   \n",
              "\n",
              "   way  customer  easily  channel  every  including  help  chatbot  service  \\\n",
              "0    0         0       0        0      0          0     0        0        0   \n",
              "\n",
              "   customers  video  add  etc  make  answer  product  always  reduce  \\\n",
              "0          0      0    0    0     0       0        0       0       0   \n",
              "\n",
              "   requirement  database  ensure  stored  display  document  file  table  \\\n",
              "0            0         0       0       0        0         0     0      0   \n",
              "\n",
              "   encrypted  transaction  column  eg  update  integrity  organisation  \\\n",
              "0          0            0       0   0       1          0             0   \n",
              "\n",
              "   content  image  download  different  downloadable  downloads  language  \\\n",
              "0        0      0         0          0             0          0         0   \n",
              "\n",
              "   search  applicant  warranty  error  message  r  failure  priority  name  \\\n",
              "0       0          0         0      0        0  0        0         0     0   \n",
              "\n",
              "   one  button  server  without  text  reported  go  item  click  tutorial  \\\n",
              "0    0       0       0        0     0         0   0     0      0         0   \n",
              "\n",
              "   validation  enter  homepage  progress  home  instructor  bar  tab  depicts  \\\n",
              "0           0      0         0         0     0           0    0    0        0   \n",
              "\n",
              "   overview  default  logo  web  available  option  url  links  navigation  \\\n",
              "0         0        0     0    0          0       0    0      0           0   \n",
              "\n",
              "   navigate  main  menu  easy  component  area  category  notify  gpm  \\\n",
              "0         0     0     0     0          0     0         0       0    0   \n",
              "\n",
              "   notification  buyer  sale  enable  auction  owner  security  future  \\\n",
              "0             0      0     0       0        0      0         0       0   \n",
              "\n",
              "   notified  credit  method  creating  bidder  reset  session  never  users  \\\n",
              "0         0       0       0         0       0      0        0      0      0   \n",
              "\n",
              "   payment  card  gateway  processor  may  within  time  performance  load  \\\n",
              "0        0     0        0          0    0       0     0            0     0   \n",
              "\n",
              "   second  seconds  simultaneous  find  similar  show  listing  clear  price  \\\n",
              "0       0        0             0     0        0     0        0      0      0   \n",
              "\n",
              "   result  searching  title  results  tag  privacy  policy  secure  social  \\\n",
              "0       0          0      0        0    0        0       0       0       0   \n",
              "\n",
              "   medium  share  icon  browser  firefox  run  internet  work  need  per  \\\n",
              "0       0      0     0        0        0    0         0     0     0    0   \n",
              "\n",
              "   class  interface  pages  shallwill  box  explains  software  management  \\\n",
              "0      0          0      0          0    0         0         0           0   \n",
              "\n",
              "   new  standard  \n",
              "0    0         0  "
            ],
            "text/html": [
              "\n",
              "  <div id=\"df-69778660-4cc2-46dd-a382-f76748997a3b\">\n",
              "    <div class=\"colab-df-container\">\n",
              "      <div>\n",
              "<style scoped>\n",
              "    .dataframe tbody tr th:only-of-type {\n",
              "        vertical-align: middle;\n",
              "    }\n",
              "\n",
              "    .dataframe tbody tr th {\n",
              "        vertical-align: top;\n",
              "    }\n",
              "\n",
              "    .dataframe thead th {\n",
              "        text-align: right;\n",
              "    }\n",
              "</style>\n",
              "<table border=\"1\" class=\"dataframe\">\n",
              "  <thead>\n",
              "    <tr style=\"text-align: right;\">\n",
              "      <th></th>\n",
              "      <th>req_no</th>\n",
              "      <th>requirement_text</th>\n",
              "      <th>Account Details and Settings</th>\n",
              "      <th>Authentication and Authorization</th>\n",
              "      <th>Contact Details</th>\n",
              "      <th>Customer Support</th>\n",
              "      <th>Data Integrity and Consistency</th>\n",
              "      <th>Design and Content</th>\n",
              "      <th>Downloads</th>\n",
              "      <th>Error Handling</th>\n",
              "      <th>Features and Functions</th>\n",
              "      <th>Forms and Validation of Input</th>\n",
              "      <th>Home Page</th>\n",
              "      <th>Language Compatibility</th>\n",
              "      <th>Links</th>\n",
              "      <th>Navigation</th>\n",
              "      <th>Notifications and Alerts</th>\n",
              "      <th>Password Policy and Setup</th>\n",
              "      <th>Payment flow and details</th>\n",
              "      <th>Performance</th>\n",
              "      <th>Product Page and Products</th>\n",
              "      <th>Search and Search Engine Optimization(SEO)</th>\n",
              "      <th>Security and Privacy Policy</th>\n",
              "      <th>Social Media Links and Icons</th>\n",
              "      <th>Supportability and Device Compatibility</th>\n",
              "      <th>Usability and Accessibility</th>\n",
              "      <th>all Web Pages in the website</th>\n",
              "      <th>Integration</th>\n",
              "      <th>classes_count</th>\n",
              "      <th>lemmatized_requirement</th>\n",
              "      <th>words_in_requirement</th>\n",
              "      <th>words_in_lemmatized_req</th>\n",
              "      <th>words_diffence</th>\n",
              "      <th>user</th>\n",
              "      <th>contact</th>\n",
              "      <th>account</th>\n",
              "      <th>information</th>\n",
              "      <th>field</th>\n",
              "      <th>shall</th>\n",
              "      <th>number</th>\n",
              "      <th>email</th>\n",
              "      <th>profile</th>\n",
              "      <th>website</th>\n",
              "      <th>include</th>\n",
              "      <th>phone</th>\n",
              "      <th>address</th>\n",
              "      <th>id</th>\n",
              "      <th>password</th>\n",
              "      <th>form</th>\n",
              "      <th>u</th>\n",
              "      <th>page</th>\n",
              "      <th>throw</th>\n",
              "      <th>numbers</th>\n",
              "      <th>link</th>\n",
              "      <th>characters</th>\n",
              "      <th>view</th>\n",
              "      <th>create</th>\n",
              "      <th>change</th>\n",
              "      <th>system</th>\n",
              "      <th>application</th>\n",
              "      <th>able</th>\n",
              "      <th>login</th>\n",
              "      <th>authorized</th>\n",
              "      <th>access</th>\n",
              "      <th>must</th>\n",
              "      <th>register</th>\n",
              "      <th>use</th>\n",
              "      <th>data</th>\n",
              "      <th>log</th>\n",
              "      <th>administrator</th>\n",
              "      <th>support</th>\n",
              "      <th>allow</th>\n",
              "      <th>verify</th>\n",
              "      <th>cm</th>\n",
              "      <th>site</th>\n",
              "      <th>person</th>\n",
              "      <th>provide</th>\n",
              "      <th>detail</th>\n",
              "      <th>resume</th>\n",
              "      <th>company</th>\n",
              "      <th>way</th>\n",
              "      <th>customer</th>\n",
              "      <th>easily</th>\n",
              "      <th>channel</th>\n",
              "      <th>every</th>\n",
              "      <th>including</th>\n",
              "      <th>help</th>\n",
              "      <th>chatbot</th>\n",
              "      <th>service</th>\n",
              "      <th>customers</th>\n",
              "      <th>video</th>\n",
              "      <th>add</th>\n",
              "      <th>etc</th>\n",
              "      <th>make</th>\n",
              "      <th>answer</th>\n",
              "      <th>product</th>\n",
              "      <th>always</th>\n",
              "      <th>reduce</th>\n",
              "      <th>requirement</th>\n",
              "      <th>database</th>\n",
              "      <th>ensure</th>\n",
              "      <th>stored</th>\n",
              "      <th>display</th>\n",
              "      <th>document</th>\n",
              "      <th>file</th>\n",
              "      <th>table</th>\n",
              "      <th>encrypted</th>\n",
              "      <th>transaction</th>\n",
              "      <th>column</th>\n",
              "      <th>eg</th>\n",
              "      <th>update</th>\n",
              "      <th>integrity</th>\n",
              "      <th>organisation</th>\n",
              "      <th>content</th>\n",
              "      <th>image</th>\n",
              "      <th>download</th>\n",
              "      <th>different</th>\n",
              "      <th>downloadable</th>\n",
              "      <th>downloads</th>\n",
              "      <th>language</th>\n",
              "      <th>search</th>\n",
              "      <th>applicant</th>\n",
              "      <th>warranty</th>\n",
              "      <th>error</th>\n",
              "      <th>message</th>\n",
              "      <th>r</th>\n",
              "      <th>failure</th>\n",
              "      <th>priority</th>\n",
              "      <th>name</th>\n",
              "      <th>one</th>\n",
              "      <th>button</th>\n",
              "      <th>server</th>\n",
              "      <th>without</th>\n",
              "      <th>text</th>\n",
              "      <th>reported</th>\n",
              "      <th>go</th>\n",
              "      <th>item</th>\n",
              "      <th>click</th>\n",
              "      <th>tutorial</th>\n",
              "      <th>validation</th>\n",
              "      <th>enter</th>\n",
              "      <th>homepage</th>\n",
              "      <th>progress</th>\n",
              "      <th>home</th>\n",
              "      <th>instructor</th>\n",
              "      <th>bar</th>\n",
              "      <th>tab</th>\n",
              "      <th>depicts</th>\n",
              "      <th>overview</th>\n",
              "      <th>default</th>\n",
              "      <th>logo</th>\n",
              "      <th>web</th>\n",
              "      <th>available</th>\n",
              "      <th>option</th>\n",
              "      <th>url</th>\n",
              "      <th>links</th>\n",
              "      <th>navigation</th>\n",
              "      <th>navigate</th>\n",
              "      <th>main</th>\n",
              "      <th>menu</th>\n",
              "      <th>easy</th>\n",
              "      <th>component</th>\n",
              "      <th>area</th>\n",
              "      <th>category</th>\n",
              "      <th>notify</th>\n",
              "      <th>gpm</th>\n",
              "      <th>notification</th>\n",
              "      <th>buyer</th>\n",
              "      <th>sale</th>\n",
              "      <th>enable</th>\n",
              "      <th>auction</th>\n",
              "      <th>owner</th>\n",
              "      <th>security</th>\n",
              "      <th>future</th>\n",
              "      <th>notified</th>\n",
              "      <th>credit</th>\n",
              "      <th>method</th>\n",
              "      <th>creating</th>\n",
              "      <th>bidder</th>\n",
              "      <th>reset</th>\n",
              "      <th>session</th>\n",
              "      <th>never</th>\n",
              "      <th>users</th>\n",
              "      <th>payment</th>\n",
              "      <th>card</th>\n",
              "      <th>gateway</th>\n",
              "      <th>processor</th>\n",
              "      <th>may</th>\n",
              "      <th>within</th>\n",
              "      <th>time</th>\n",
              "      <th>performance</th>\n",
              "      <th>load</th>\n",
              "      <th>second</th>\n",
              "      <th>seconds</th>\n",
              "      <th>simultaneous</th>\n",
              "      <th>find</th>\n",
              "      <th>similar</th>\n",
              "      <th>show</th>\n",
              "      <th>listing</th>\n",
              "      <th>clear</th>\n",
              "      <th>price</th>\n",
              "      <th>result</th>\n",
              "      <th>searching</th>\n",
              "      <th>title</th>\n",
              "      <th>results</th>\n",
              "      <th>tag</th>\n",
              "      <th>privacy</th>\n",
              "      <th>policy</th>\n",
              "      <th>secure</th>\n",
              "      <th>social</th>\n",
              "      <th>medium</th>\n",
              "      <th>share</th>\n",
              "      <th>icon</th>\n",
              "      <th>browser</th>\n",
              "      <th>firefox</th>\n",
              "      <th>run</th>\n",
              "      <th>internet</th>\n",
              "      <th>work</th>\n",
              "      <th>need</th>\n",
              "      <th>per</th>\n",
              "      <th>class</th>\n",
              "      <th>interface</th>\n",
              "      <th>pages</th>\n",
              "      <th>shallwill</th>\n",
              "      <th>box</th>\n",
              "      <th>explains</th>\n",
              "      <th>software</th>\n",
              "      <th>management</th>\n",
              "      <th>new</th>\n",
              "      <th>standard</th>\n",
              "    </tr>\n",
              "  </thead>\n",
              "  <tbody>\n",
              "    <tr>\n",
              "      <th>0</th>\n",
              "      <td>1</td>\n",
              "      <td>System shall allow users to update their billing and contact information via the “My Account” section of the website</td>\n",
              "      <td>1</td>\n",
              "      <td>0</td>\n",
              "      <td>1</td>\n",
              "      <td>0</td>\n",
              "      <td>0</td>\n",
              "      <td>0</td>\n",
              "      <td>0</td>\n",
              "      <td>0</td>\n",
              "      <td>1</td>\n",
              "      <td>0</td>\n",
              "      <td>0</td>\n",
              "      <td>0</td>\n",
              "      <td>0</td>\n",
              "      <td>0</td>\n",
              "      <td>0</td>\n",
              "      <td>0</td>\n",
              "      <td>0</td>\n",
              "      <td>0</td>\n",
              "      <td>0</td>\n",
              "      <td>0</td>\n",
              "      <td>0</td>\n",
              "      <td>0</td>\n",
              "      <td>0</td>\n",
              "      <td>0</td>\n",
              "      <td>0</td>\n",
              "      <td>0</td>\n",
              "      <td>3</td>\n",
              "      <td>system shall allow user update billing contact information via my account section website</td>\n",
              "      <td>19</td>\n",
              "      <td>13</td>\n",
              "      <td>6</td>\n",
              "      <td>1</td>\n",
              "      <td>1</td>\n",
              "      <td>1</td>\n",
              "      <td>1</td>\n",
              "      <td>0</td>\n",
              "      <td>1</td>\n",
              "      <td>0</td>\n",
              "      <td>0</td>\n",
              "      <td>0</td>\n",
              "      <td>0</td>\n",
              "      <td>0</td>\n",
              "      <td>0</td>\n",
              "      <td>0</td>\n",
              "      <td>0</td>\n",
              "      <td>0</td>\n",
              "      <td>0</td>\n",
              "      <td>0</td>\n",
              "      <td>0</td>\n",
              "      <td>0</td>\n",
              "      <td>0</td>\n",
              "      <td>0</td>\n",
              "      <td>0</td>\n",
              "      <td>0</td>\n",
              "      <td>0</td>\n",
              "      <td>0</td>\n",
              "      <td>0</td>\n",
              "      <td>0</td>\n",
              "      <td>0</td>\n",
              "      <td>0</td>\n",
              "      <td>0</td>\n",
              "      <td>0</td>\n",
              "      <td>0</td>\n",
              "      <td>0</td>\n",
              "      <td>0</td>\n",
              "      <td>0</td>\n",
              "      <td>0</td>\n",
              "      <td>0</td>\n",
              "      <td>0</td>\n",
              "      <td>1</td>\n",
              "      <td>0</td>\n",
              "      <td>0</td>\n",
              "      <td>0</td>\n",
              "      <td>0</td>\n",
              "      <td>0</td>\n",
              "      <td>0</td>\n",
              "      <td>0</td>\n",
              "      <td>0</td>\n",
              "      <td>0</td>\n",
              "      <td>0</td>\n",
              "      <td>0</td>\n",
              "      <td>0</td>\n",
              "      <td>0</td>\n",
              "      <td>0</td>\n",
              "      <td>0</td>\n",
              "      <td>0</td>\n",
              "      <td>0</td>\n",
              "      <td>0</td>\n",
              "      <td>0</td>\n",
              "      <td>0</td>\n",
              "      <td>0</td>\n",
              "      <td>0</td>\n",
              "      <td>0</td>\n",
              "      <td>0</td>\n",
              "      <td>0</td>\n",
              "      <td>0</td>\n",
              "      <td>0</td>\n",
              "      <td>0</td>\n",
              "      <td>0</td>\n",
              "      <td>0</td>\n",
              "      <td>0</td>\n",
              "      <td>0</td>\n",
              "      <td>0</td>\n",
              "      <td>0</td>\n",
              "      <td>0</td>\n",
              "      <td>0</td>\n",
              "      <td>0</td>\n",
              "      <td>0</td>\n",
              "      <td>1</td>\n",
              "      <td>0</td>\n",
              "      <td>0</td>\n",
              "      <td>0</td>\n",
              "      <td>0</td>\n",
              "      <td>0</td>\n",
              "      <td>0</td>\n",
              "      <td>0</td>\n",
              "      <td>0</td>\n",
              "      <td>0</td>\n",
              "      <td>0</td>\n",
              "      <td>0</td>\n",
              "      <td>0</td>\n",
              "      <td>0</td>\n",
              "      <td>0</td>\n",
              "      <td>0</td>\n",
              "      <td>0</td>\n",
              "      <td>0</td>\n",
              "      <td>0</td>\n",
              "      <td>0</td>\n",
              "      <td>0</td>\n",
              "      <td>0</td>\n",
              "      <td>0</td>\n",
              "      <td>0</td>\n",
              "      <td>0</td>\n",
              "      <td>0</td>\n",
              "      <td>0</td>\n",
              "      <td>0</td>\n",
              "      <td>0</td>\n",
              "      <td>0</td>\n",
              "      <td>0</td>\n",
              "      <td>0</td>\n",
              "      <td>0</td>\n",
              "      <td>0</td>\n",
              "      <td>0</td>\n",
              "      <td>0</td>\n",
              "      <td>0</td>\n",
              "      <td>0</td>\n",
              "      <td>0</td>\n",
              "      <td>0</td>\n",
              "      <td>0</td>\n",
              "      <td>0</td>\n",
              "      <td>0</td>\n",
              "      <td>0</td>\n",
              "      <td>0</td>\n",
              "      <td>0</td>\n",
              "      <td>0</td>\n",
              "      <td>0</td>\n",
              "      <td>0</td>\n",
              "      <td>0</td>\n",
              "      <td>0</td>\n",
              "      <td>0</td>\n",
              "      <td>0</td>\n",
              "      <td>0</td>\n",
              "      <td>0</td>\n",
              "      <td>0</td>\n",
              "      <td>0</td>\n",
              "      <td>0</td>\n",
              "      <td>0</td>\n",
              "      <td>0</td>\n",
              "      <td>0</td>\n",
              "      <td>0</td>\n",
              "      <td>0</td>\n",
              "      <td>0</td>\n",
              "      <td>0</td>\n",
              "      <td>0</td>\n",
              "      <td>0</td>\n",
              "      <td>0</td>\n",
              "      <td>0</td>\n",
              "      <td>0</td>\n",
              "      <td>0</td>\n",
              "      <td>0</td>\n",
              "      <td>0</td>\n",
              "      <td>0</td>\n",
              "      <td>0</td>\n",
              "      <td>0</td>\n",
              "      <td>0</td>\n",
              "      <td>0</td>\n",
              "      <td>0</td>\n",
              "      <td>0</td>\n",
              "      <td>0</td>\n",
              "      <td>0</td>\n",
              "      <td>0</td>\n",
              "      <td>0</td>\n",
              "      <td>0</td>\n",
              "      <td>0</td>\n",
              "      <td>0</td>\n",
              "      <td>0</td>\n",
              "      <td>0</td>\n",
              "      <td>0</td>\n",
              "      <td>0</td>\n",
              "      <td>0</td>\n",
              "      <td>0</td>\n",
              "      <td>0</td>\n",
              "      <td>0</td>\n",
              "      <td>0</td>\n",
              "      <td>0</td>\n",
              "      <td>0</td>\n",
              "      <td>0</td>\n",
              "      <td>0</td>\n",
              "      <td>0</td>\n",
              "      <td>0</td>\n",
              "      <td>0</td>\n",
              "      <td>0</td>\n",
              "      <td>0</td>\n",
              "      <td>0</td>\n",
              "      <td>0</td>\n",
              "      <td>0</td>\n",
              "      <td>0</td>\n",
              "      <td>0</td>\n",
              "      <td>0</td>\n",
              "      <td>0</td>\n",
              "      <td>0</td>\n",
              "      <td>0</td>\n",
              "      <td>0</td>\n",
              "      <td>0</td>\n",
              "      <td>0</td>\n",
              "      <td>0</td>\n",
              "      <td>0</td>\n",
              "      <td>0</td>\n",
              "    </tr>\n",
              "  </tbody>\n",
              "</table>\n",
              "</div>\n",
              "      <button class=\"colab-df-convert\" onclick=\"convertToInteractive('df-69778660-4cc2-46dd-a382-f76748997a3b')\"\n",
              "              title=\"Convert this dataframe to an interactive table.\"\n",
              "              style=\"display:none;\">\n",
              "        \n",
              "  <svg xmlns=\"http://www.w3.org/2000/svg\" height=\"24px\"viewBox=\"0 0 24 24\"\n",
              "       width=\"24px\">\n",
              "    <path d=\"M0 0h24v24H0V0z\" fill=\"none\"/>\n",
              "    <path d=\"M18.56 5.44l.94 2.06.94-2.06 2.06-.94-2.06-.94-.94-2.06-.94 2.06-2.06.94zm-11 1L8.5 8.5l.94-2.06 2.06-.94-2.06-.94L8.5 2.5l-.94 2.06-2.06.94zm10 10l.94 2.06.94-2.06 2.06-.94-2.06-.94-.94-2.06-.94 2.06-2.06.94z\"/><path d=\"M17.41 7.96l-1.37-1.37c-.4-.4-.92-.59-1.43-.59-.52 0-1.04.2-1.43.59L10.3 9.45l-7.72 7.72c-.78.78-.78 2.05 0 2.83L4 21.41c.39.39.9.59 1.41.59.51 0 1.02-.2 1.41-.59l7.78-7.78 2.81-2.81c.8-.78.8-2.07 0-2.86zM5.41 20L4 18.59l7.72-7.72 1.47 1.35L5.41 20z\"/>\n",
              "  </svg>\n",
              "      </button>\n",
              "      \n",
              "  <style>\n",
              "    .colab-df-container {\n",
              "      display:flex;\n",
              "      flex-wrap:wrap;\n",
              "      gap: 12px;\n",
              "    }\n",
              "\n",
              "    .colab-df-convert {\n",
              "      background-color: #E8F0FE;\n",
              "      border: none;\n",
              "      border-radius: 50%;\n",
              "      cursor: pointer;\n",
              "      display: none;\n",
              "      fill: #1967D2;\n",
              "      height: 32px;\n",
              "      padding: 0 0 0 0;\n",
              "      width: 32px;\n",
              "    }\n",
              "\n",
              "    .colab-df-convert:hover {\n",
              "      background-color: #E2EBFA;\n",
              "      box-shadow: 0px 1px 2px rgba(60, 64, 67, 0.3), 0px 1px 3px 1px rgba(60, 64, 67, 0.15);\n",
              "      fill: #174EA6;\n",
              "    }\n",
              "\n",
              "    [theme=dark] .colab-df-convert {\n",
              "      background-color: #3B4455;\n",
              "      fill: #D2E3FC;\n",
              "    }\n",
              "\n",
              "    [theme=dark] .colab-df-convert:hover {\n",
              "      background-color: #434B5C;\n",
              "      box-shadow: 0px 1px 3px 1px rgba(0, 0, 0, 0.15);\n",
              "      filter: drop-shadow(0px 1px 2px rgba(0, 0, 0, 0.3));\n",
              "      fill: #FFFFFF;\n",
              "    }\n",
              "  </style>\n",
              "\n",
              "      <script>\n",
              "        const buttonEl =\n",
              "          document.querySelector('#df-69778660-4cc2-46dd-a382-f76748997a3b button.colab-df-convert');\n",
              "        buttonEl.style.display =\n",
              "          google.colab.kernel.accessAllowed ? 'block' : 'none';\n",
              "\n",
              "        async function convertToInteractive(key) {\n",
              "          const element = document.querySelector('#df-69778660-4cc2-46dd-a382-f76748997a3b');\n",
              "          const dataTable =\n",
              "            await google.colab.kernel.invokeFunction('convertToInteractive',\n",
              "                                                     [key], {});\n",
              "          if (!dataTable) return;\n",
              "\n",
              "          const docLinkHtml = 'Like what you see? Visit the ' +\n",
              "            '<a target=\"_blank\" href=https://colab.research.google.com/notebooks/data_table.ipynb>data table notebook</a>'\n",
              "            + ' to learn more about interactive tables.';\n",
              "          element.innerHTML = '';\n",
              "          dataTable['output_type'] = 'display_data';\n",
              "          await google.colab.output.renderOutput(dataTable, element);\n",
              "          const docLink = document.createElement('div');\n",
              "          docLink.innerHTML = docLinkHtml;\n",
              "          element.appendChild(docLink);\n",
              "        }\n",
              "      </script>\n",
              "    </div>\n",
              "  </div>\n",
              "  "
            ]
          },
          "metadata": {},
          "execution_count": 273
        }
      ]
    },
    {
      "cell_type": "markdown",
      "id": "e98fa432",
      "metadata": {
        "id": "e98fa432"
      },
      "source": [
        "Создаем разметку данных"
      ]
    },
    {
      "cell_type": "code",
      "execution_count": 274,
      "id": "0ec22795",
      "metadata": {
        "id": "0ec22795"
      },
      "outputs": [],
      "source": [
        "target = requirement_classes\n",
        "features = bag_of_word\n",
        "for i in additional_parameters:\n",
        "    features.append(i)"
      ]
    },
    {
      "cell_type": "markdown",
      "id": "48136d97",
      "metadata": {
        "id": "48136d97"
      },
      "source": [
        "# Разбиение на тестовую и валидационную выборки для каждого класса требований для Bag of words"
      ]
    },
    {
      "cell_type": "markdown",
      "id": "2ebf67f2",
      "metadata": {
        "id": "2ebf67f2"
      },
      "source": [
        "Всего 26 классов"
      ]
    },
    {
      "cell_type": "code",
      "execution_count": 275,
      "id": "7b15bada",
      "metadata": {
        "id": "7b15bada"
      },
      "outputs": [],
      "source": [
        "from sklearn.model_selection import train_test_split"
      ]
    },
    {
      "cell_type": "code",
      "execution_count": 276,
      "id": "bb938106",
      "metadata": {
        "id": "bb938106"
      },
      "outputs": [],
      "source": [
        "def split_train_test (dataframe_, target_, features_):\n",
        "        \n",
        "        X_train, X_test, y_train, y_test = train_test_split(dataframe_[features_],dataframe_[target_],test_size=0.2, random_state=77, stratify=dataframe_[target_])\n",
        "        \n",
        "        return X_train, X_test, y_train, y_test"
      ]
    },
    {
      "cell_type": "code",
      "execution_count": 276,
      "id": "be0ca120",
      "metadata": {
        "id": "be0ca120"
      },
      "outputs": [],
      "source": []
    },
    {
      "cell_type": "code",
      "source": [
        "for cl in requirement_classes:\n",
        "  print(cl, '\\n', class_dict[cl].value_counts(),'\\n\\n')"
      ],
      "metadata": {
        "colab": {
          "base_uri": "https://localhost:8080/"
        },
        "id": "yHRuhZ5cP2eZ",
        "outputId": "42fa65c6-1a4a-4d76-f973-d1cfc8404349"
      },
      "id": "yHRuhZ5cP2eZ",
      "execution_count": 277,
      "outputs": [
        {
          "output_type": "stream",
          "name": "stdout",
          "text": [
            "Account Details and Settings \n",
            " 6     8\n",
            "4     7\n",
            "5     3\n",
            "7     2\n",
            "27    1\n",
            "23    1\n",
            "17    1\n",
            "12    1\n",
            "11    1\n",
            "dtype: int64 \n",
            "\n",
            "\n",
            "Authentication and Authorization \n",
            " 12     5\n",
            "13     4\n",
            "32     2\n",
            "28     2\n",
            "15     2\n",
            "14     2\n",
            "130    1\n",
            "40     1\n",
            "36     1\n",
            "33     1\n",
            "31     1\n",
            "27     1\n",
            "26     1\n",
            "17     1\n",
            "dtype: int64 \n",
            "\n",
            "\n",
            "Contact Details \n",
            " 5     5\n",
            "11    4\n",
            "6     4\n",
            "10    2\n",
            "9     2\n",
            "7     2\n",
            "57    1\n",
            "26    1\n",
            "23    1\n",
            "22    1\n",
            "17    1\n",
            "13    1\n",
            "dtype: int64 \n",
            "\n",
            "\n",
            "Customer Support \n",
            " 5     9\n",
            "7     4\n",
            "6     4\n",
            "8     2\n",
            "26    1\n",
            "23    1\n",
            "22    1\n",
            "12    1\n",
            "11    1\n",
            "9     1\n",
            "dtype: int64 \n",
            "\n",
            "\n",
            "Data Integrity and Consistency \n",
            " 7     5\n",
            "5     5\n",
            "4     4\n",
            "51    1\n",
            "35    1\n",
            "30    1\n",
            "29    1\n",
            "19    1\n",
            "15    1\n",
            "14    1\n",
            "13    1\n",
            "11    1\n",
            "9     1\n",
            "6     1\n",
            "dtype: int64 \n",
            "\n",
            "\n",
            "Design and Content \n",
            " 26     3\n",
            "23     3\n",
            "100    2\n",
            "19     2\n",
            "61     1\n",
            "48     1\n",
            "43     1\n",
            "41     1\n",
            "40     1\n",
            "89     1\n",
            "33     1\n",
            "32     1\n",
            "28     1\n",
            "63     1\n",
            "25     1\n",
            "24     1\n",
            "68     1\n",
            "21     1\n",
            "36     1\n",
            "dtype: int64 \n",
            "\n",
            "\n",
            "Downloads \n",
            " 6     7\n",
            "5     5\n",
            "7     3\n",
            "4     3\n",
            "8     2\n",
            "15    1\n",
            "13    1\n",
            "12    1\n",
            "10    1\n",
            "9     1\n",
            "dtype: int64 \n",
            "\n",
            "\n",
            "Error Handling \n",
            " 10    4\n",
            "13    3\n",
            "9     3\n",
            "17    2\n",
            "16    2\n",
            "14    2\n",
            "11    2\n",
            "8     2\n",
            "35    1\n",
            "33    1\n",
            "22    1\n",
            "20    1\n",
            "12    1\n",
            "dtype: int64 \n",
            "\n",
            "\n",
            "Features and Functions \n",
            " 37     3\n",
            "29     2\n",
            "35     2\n",
            "45     2\n",
            "43     2\n",
            "39     1\n",
            "33     1\n",
            "34     1\n",
            "36     1\n",
            "38     1\n",
            "221    1\n",
            "40     1\n",
            "119    1\n",
            "46     1\n",
            "50     1\n",
            "51     1\n",
            "73     1\n",
            "88     1\n",
            "41     1\n",
            "dtype: int64 \n",
            "\n",
            "\n",
            "Forms and Validation of Input \n",
            " 18    3\n",
            "16    3\n",
            "9     3\n",
            "14    2\n",
            "11    2\n",
            "10    2\n",
            "8     2\n",
            "76    1\n",
            "50    1\n",
            "35    1\n",
            "29    1\n",
            "25    1\n",
            "24    1\n",
            "19    1\n",
            "13    1\n",
            "dtype: int64 \n",
            "\n",
            "\n",
            "Home Page \n",
            " 6     7\n",
            "8     3\n",
            "5     3\n",
            "10    2\n",
            "7     2\n",
            "31    1\n",
            "28    1\n",
            "25    1\n",
            "20    1\n",
            "16    1\n",
            "12    1\n",
            "11    1\n",
            "9     1\n",
            "dtype: int64 \n",
            "\n",
            "\n",
            "Language Compatibility \n",
            " 9     5\n",
            "5     5\n",
            "6     3\n",
            "11    2\n",
            "7     2\n",
            "30    1\n",
            "22    1\n",
            "20    1\n",
            "18    1\n",
            "17    1\n",
            "15    1\n",
            "14    1\n",
            "10    1\n",
            "dtype: int64 \n",
            "\n",
            "\n",
            "Links \n",
            " 20     3\n",
            "19     3\n",
            "24     2\n",
            "21     2\n",
            "12     2\n",
            "25     1\n",
            "26     1\n",
            "23     1\n",
            "36     1\n",
            "75     1\n",
            "70     1\n",
            "18     1\n",
            "17     1\n",
            "16     1\n",
            "15     1\n",
            "14     1\n",
            "13     1\n",
            "161    1\n",
            "dtype: int64 \n",
            "\n",
            "\n",
            "Navigation \n",
            " 11    4\n",
            "12    3\n",
            "7     3\n",
            "6     3\n",
            "5     3\n",
            "10    2\n",
            "8     2\n",
            "31    1\n",
            "29    1\n",
            "17    1\n",
            "16    1\n",
            "9     1\n",
            "dtype: int64 \n",
            "\n",
            "\n",
            "Notifications and Alerts \n",
            " 5     6\n",
            "7     3\n",
            "6     3\n",
            "4     3\n",
            "13    2\n",
            "8     2\n",
            "23    1\n",
            "18    1\n",
            "17    1\n",
            "15    1\n",
            "11    1\n",
            "9     1\n",
            "dtype: int64 \n",
            "\n",
            "\n",
            "Password Policy and Setup \n",
            " 7     6\n",
            "4     6\n",
            "5     4\n",
            "6     2\n",
            "56    1\n",
            "43    1\n",
            "19    1\n",
            "12    1\n",
            "11    1\n",
            "9     1\n",
            "8     1\n",
            "dtype: int64 \n",
            "\n",
            "\n",
            "Payment flow and details \n",
            " 5     5\n",
            "8     4\n",
            "11    3\n",
            "4     3\n",
            "18    2\n",
            "6     2\n",
            "47    1\n",
            "21    1\n",
            "12    1\n",
            "10    1\n",
            "9     1\n",
            "7     1\n",
            "dtype: int64 \n",
            "\n",
            "\n",
            "Performance \n",
            " 14    6\n",
            "13    3\n",
            "12    3\n",
            "18    2\n",
            "77    1\n",
            "51    1\n",
            "36    1\n",
            "28    1\n",
            "24    1\n",
            "21    1\n",
            "19    1\n",
            "17    1\n",
            "16    1\n",
            "15    1\n",
            "11    1\n",
            "dtype: int64 \n",
            "\n",
            "\n",
            "Product Page and Products \n",
            " 6     10\n",
            "5      5\n",
            "9      2\n",
            "8      2\n",
            "7      2\n",
            "74     1\n",
            "24     1\n",
            "19     1\n",
            "11     1\n",
            "dtype: int64 \n",
            "\n",
            "\n",
            "Search and Search Engine Optimization(SEO) \n",
            " 10     4\n",
            "24     2\n",
            "17     2\n",
            "16     2\n",
            "15     2\n",
            "14     2\n",
            "9      2\n",
            "106    1\n",
            "55     1\n",
            "26     1\n",
            "22     1\n",
            "21     1\n",
            "19     1\n",
            "13     1\n",
            "12     1\n",
            "11     1\n",
            "dtype: int64 \n",
            "\n",
            "\n",
            "Security and Privacy Policy \n",
            " 11    5\n",
            "10    2\n",
            "16    2\n",
            "18    2\n",
            "60    1\n",
            "13    1\n",
            "14    1\n",
            "15    1\n",
            "17    1\n",
            "69    1\n",
            "23    1\n",
            "25    1\n",
            "30    1\n",
            "35    1\n",
            "38    1\n",
            "42    1\n",
            "50    1\n",
            "19    1\n",
            "dtype: int64 \n",
            "\n",
            "\n",
            "Social Media Links and Icons \n",
            " 4     8\n",
            "5     5\n",
            "14    2\n",
            "8     2\n",
            "7     2\n",
            "6     2\n",
            "22    1\n",
            "21    1\n",
            "10    1\n",
            "9     1\n",
            "dtype: int64 \n",
            "\n",
            "\n",
            "Supportability and Device Compatibility \n",
            " 9     5\n",
            "10    3\n",
            "8     3\n",
            "16    2\n",
            "14    2\n",
            "13    2\n",
            "46    1\n",
            "44    1\n",
            "29    1\n",
            "25    1\n",
            "24    1\n",
            "22    1\n",
            "11    1\n",
            "7     1\n",
            "dtype: int64 \n",
            "\n",
            "\n",
            "Usability and Accessibility  \n",
            " 7     5\n",
            "12    3\n",
            "11    3\n",
            "8     3\n",
            "9     2\n",
            "57    1\n",
            "46    1\n",
            "36    1\n",
            "33    1\n",
            "27    1\n",
            "22    1\n",
            "19    1\n",
            "15    1\n",
            "14    1\n",
            "dtype: int64 \n",
            "\n",
            "\n",
            "all Web Pages in the website \n",
            " 4     7\n",
            "5     4\n",
            "3     4\n",
            "12    2\n",
            "7     2\n",
            "6     2\n",
            "38    1\n",
            "14    1\n",
            "10    1\n",
            "9     1\n",
            "dtype: int64 \n",
            "\n",
            "\n",
            "Integration \n",
            " 20    3\n",
            "16    3\n",
            "14    3\n",
            "13    3\n",
            "33    2\n",
            "60    1\n",
            "45    1\n",
            "38    1\n",
            "31    1\n",
            "27    1\n",
            "25    1\n",
            "24    1\n",
            "23    1\n",
            "21    1\n",
            "19    1\n",
            "15    1\n",
            "dtype: int64 \n",
            "\n",
            "\n"
          ]
        }
      ]
    },
    {
      "cell_type": "code",
      "execution_count": 278,
      "id": "be896925",
      "metadata": {
        "id": "be896925"
      },
      "outputs": [],
      "source": [
        "X_class_train = dict()\n",
        "X_class_test = dict()\n",
        "y_class_train = dict()\n",
        "y_class_test = dict()\n",
        "\n",
        "for cl in requirement_classes:\n",
        "    X_class_train[cl],X_class_test[cl],y_class_train[cl],y_class_test[cl]=split_train_test(dataframe_=bow_data, target_=cl, features_=class_dict[cl].index)"
      ]
    },
    {
      "cell_type": "markdown",
      "id": "6f991ee0",
      "metadata": {
        "id": "6f991ee0"
      },
      "source": [
        "# Нормализация"
      ]
    },
    {
      "cell_type": "markdown",
      "id": "0de36557",
      "metadata": {
        "id": "0de36557"
      },
      "source": [
        "Нормализация обучающей выборки"
      ]
    },
    {
      "cell_type": "code",
      "execution_count": 279,
      "id": "1438267b",
      "metadata": {
        "id": "1438267b"
      },
      "outputs": [],
      "source": [
        "scaler = dict()\n",
        "scaler_params = dict()\n",
        "for cl in requirement_classes:\n",
        "    scaler[cl] = MinMaxScaler()\n",
        "    X_class_train[cl] = scaler[cl].fit_transform(X_class_train[cl])"
      ]
    },
    {
      "cell_type": "markdown",
      "id": "8bfebb4d",
      "metadata": {
        "id": "8bfebb4d"
      },
      "source": [
        "Нормализация тестовой выборки на сонове парамтеров обучающей"
      ]
    },
    {
      "cell_type": "code",
      "execution_count": 280,
      "id": "3800a77d",
      "metadata": {
        "id": "3800a77d"
      },
      "outputs": [],
      "source": [
        "scaler_ = MinMaxScaler()\n",
        "for cl in requirement_classes:\n",
        "#    scaler[cl].get_params()\n",
        "    X_class_test[cl]=scaler[cl].transform(X_class_test[cl])"
      ]
    },
    {
      "cell_type": "markdown",
      "id": "628cc6e1",
      "metadata": {
        "id": "628cc6e1"
      },
      "source": [
        "# Обучение модели на базе Bag Of Words"
      ]
    },
    {
      "cell_type": "markdown",
      "id": "b860011a",
      "metadata": {
        "id": "b860011a"
      },
      "source": [
        "Так как классификация будет проводиться по каждому из классов независимо, разбиение на тестовую и обучающую выборки будет проводиться для каждого из классов отдельно"
      ]
    },
    {
      "cell_type": "code",
      "execution_count": 281,
      "id": "1ce7acfb",
      "metadata": {
        "id": "1ce7acfb"
      },
      "outputs": [],
      "source": [
        "import warnings\n",
        "warnings.filterwarnings('ignore')\n",
        "\n",
        "from sklearn.linear_model import LogisticRegression\n",
        "model_class_lr = dict()\n",
        "model_lr_ = LogisticRegression() # Используем модель с параметрами по умолчанию\n",
        "\n",
        "for cl in range(len(requirement_classes)):\n",
        "    model_lr_.fit(X_class_train[requirement_classes[cl]], y_class_train[requirement_classes[cl]])\n",
        "    model_class_lr[requirement_classes[cl]] = model_lr_"
      ]
    },
    {
      "cell_type": "markdown",
      "id": "55f0ee0e",
      "metadata": {
        "id": "55f0ee0e"
      },
      "source": [
        "Наивный Байес"
      ]
    },
    {
      "cell_type": "code",
      "execution_count": 282,
      "id": "0f510739",
      "metadata": {
        "id": "0f510739"
      },
      "outputs": [],
      "source": [
        "from sklearn.naive_bayes import GaussianNB\n",
        "model_nb_ = GaussianNB() # Используем модель с параметрами по умолчанию\n",
        "\n",
        "model_class_nb = dict()\n",
        "for cl in range(len(requirement_classes)):\n",
        "    model_nb_.fit(X_class_train[requirement_classes[cl]], y_class_train[requirement_classes[cl]])\n",
        "    model_class_nb[requirement_classes[cl]] = model_nb_"
      ]
    },
    {
      "cell_type": "markdown",
      "id": "bbaa487a",
      "metadata": {
        "id": "bbaa487a"
      },
      "source": [
        "k-ближайших соседей"
      ]
    },
    {
      "cell_type": "code",
      "execution_count": 283,
      "id": "d3077ed1",
      "metadata": {
        "id": "d3077ed1"
      },
      "outputs": [],
      "source": [
        "from sklearn.neighbors import KNeighborsClassifier\n",
        "model_knn_ = KNeighborsClassifier() # Используем модель с параметрами по умолчанию\n",
        "\n",
        "model_class_knn = dict()\n",
        "for cl in range(len(requirement_classes)):\n",
        "    model_knn_.fit(X_class_train[requirement_classes[cl]], y_class_train[requirement_classes[cl]])\n",
        "    model_class_knn[requirement_classes[cl]] = model_knn_"
      ]
    },
    {
      "cell_type": "markdown",
      "id": "88512971",
      "metadata": {
        "id": "88512971"
      },
      "source": [
        "Метод решающих деревьев"
      ]
    },
    {
      "cell_type": "code",
      "execution_count": 284,
      "id": "d253ec8a",
      "metadata": {
        "id": "d253ec8a"
      },
      "outputs": [],
      "source": [
        "from sklearn.tree import DecisionTreeClassifier\n",
        "model_dtc_ = DecisionTreeClassifier() # Используем модель с параметрами по умолчанию\n",
        "\n",
        "model_class_dtc = dict()\n",
        "for cl in range(len(requirement_classes)):\n",
        "    model_dtc_.fit(X_class_train[requirement_classes[cl]], y_class_train[requirement_classes[cl]])\n",
        "    model_class_dtc[requirement_classes[cl]] = model_dtc_"
      ]
    },
    {
      "cell_type": "markdown",
      "id": "2397622b",
      "metadata": {
        "id": "2397622b"
      },
      "source": [
        "Метод поддерживающих векторов"
      ]
    },
    {
      "cell_type": "code",
      "execution_count": 285,
      "id": "ffbdf11d",
      "metadata": {
        "id": "ffbdf11d"
      },
      "outputs": [],
      "source": [
        "from sklearn.svm import SVC\n",
        "model_svc_ = SVC() # Используем модель с параметрами по умолчанию\n",
        "\n",
        "model_class_svc = dict()\n",
        "for cl in range(len(requirement_classes)):\n",
        "    model_svc_.fit(X_class_train[requirement_classes[cl]], y_class_train[requirement_classes[cl]])\n",
        "    model_class_svc[requirement_classes[cl]] = model_svc_"
      ]
    },
    {
      "cell_type": "markdown",
      "id": "f1040535",
      "metadata": {
        "id": "f1040535"
      },
      "source": [
        "Случайный лес"
      ]
    },
    {
      "cell_type": "code",
      "execution_count": 286,
      "id": "f56d1ac2",
      "metadata": {
        "id": "f56d1ac2"
      },
      "outputs": [],
      "source": [
        "from sklearn.ensemble import RandomForestClassifier\n",
        "model_rf_ = RandomForestClassifier() # Используем модель с параметрами по умолчанию\n",
        "\n",
        "model_class_rf = dict()\n",
        "for cl in range(len(requirement_classes)):\n",
        "    model_rf_.fit(X_class_train[requirement_classes[cl]], y_class_train[requirement_classes[cl]])\n",
        "    model_class_rf[requirement_classes[cl]] = model_rf_"
      ]
    },
    {
      "cell_type": "code",
      "source": [
        "classifier_models = { 'nb' : model_class_nb,\n",
        "                     'knn' : model_class_knn,\n",
        "                     'lr' : model_class_lr,\n",
        "                     'dtc' : model_class_dtc,\n",
        "                     'svc' : model_class_svc,\n",
        "                     'rf' : model_class_rf\n",
        "                     }"
      ],
      "metadata": {
        "id": "2C1k71W1ABIT"
      },
      "id": "2C1k71W1ABIT",
      "execution_count": 287,
      "outputs": []
    },
    {
      "cell_type": "markdown",
      "id": "e68d01ad",
      "metadata": {
        "id": "e68d01ad"
      },
      "source": [
        "## Расчет accuracy and confusion matrix метрик для каждого класса и метода"
      ]
    },
    {
      "cell_type": "code",
      "execution_count": 288,
      "id": "eb11eedd",
      "metadata": {
        "id": "eb11eedd"
      },
      "outputs": [],
      "source": [
        "from sklearn.metrics import accuracy_score"
      ]
    },
    {
      "cell_type": "code",
      "execution_count": 289,
      "id": "ed68a200",
      "metadata": {
        "cellView": "form",
        "id": "ed68a200"
      },
      "outputs": [],
      "source": [
        "#@title linear regression\n",
        "\n",
        "lr_accuracy_test = dict()\n",
        "lr_accuracy_train = dict()\n",
        "lr_train_confusion_matrix = dict()\n",
        "lr_test_confusion_matrix = dict()\n",
        "\n",
        "for cl in requirement_classes:\n",
        "    train_predict = model_class_lr[cl].predict(X_class_train[cl])\n",
        "    test_predict = model_class_lr[cl].predict(X_class_test[cl])\n",
        "\n",
        "    lr_accuracy_train[cl] = accuracy_score(y_class_train[cl], train_predict)\n",
        "    lr_accuracy_test[cl] = accuracy_score(y_class_test[cl], test_predict)\n",
        "\n",
        "    lr_train_confusion_matrix[cl] = metrics.confusion_matrix(y_class_train[cl], train_predict)\n",
        "    lr_test_confusion_matrix[cl] = metrics.confusion_matrix(y_class_test[cl], test_predict)\n",
        "    "
      ]
    },
    {
      "cell_type": "code",
      "execution_count": 290,
      "id": "6d925cc8",
      "metadata": {
        "cellView": "form",
        "id": "6d925cc8"
      },
      "outputs": [],
      "source": [
        "#@title naive bias\n",
        "\n",
        "nb_accuracy_test = dict()\n",
        "nb_accuracy_train = dict()\n",
        "nb_train_confusion_matrix = dict()\n",
        "nb_test_confusion_matrix = dict()\n",
        "\n",
        "for cl in requirement_classes:\n",
        "    train_predict = model_class_nb[cl].predict(X_class_train[cl])\n",
        "    test_predict = model_class_nb[cl].predict(X_class_test[cl])\n",
        "\n",
        "    nb_accuracy_train[cl] = accuracy_score(y_class_train[cl], train_predict)\n",
        "    nb_accuracy_test[cl] = accuracy_score(y_class_test[cl], test_predict)\n",
        "\n",
        "    nb_train_confusion_matrix[cl] = metrics.confusion_matrix(y_class_train[cl], train_predict)\n",
        "    nb_test_confusion_matrix[cl] = metrics.confusion_matrix(y_class_test[cl], test_predict)\n",
        "    "
      ]
    },
    {
      "cell_type": "code",
      "execution_count": 291,
      "id": "b7d47c9b",
      "metadata": {
        "cellView": "form",
        "id": "b7d47c9b"
      },
      "outputs": [],
      "source": [
        "#@title k nearest neighbours\n",
        "\n",
        "knn_accuracy_test = dict()\n",
        "knn_accuracy_train = dict()\n",
        "\n",
        "knn_train_confusion_matrix = dict()\n",
        "knn_test_confusion_matrix = dict()\n",
        "\n",
        "for cl in requirement_classes:\n",
        "    train_predict = model_class_knn[cl].predict(X_class_train[cl])\n",
        "    test_predict = model_class_knn[cl].predict(X_class_test[cl])\n",
        "\n",
        "    knn_accuracy_train[cl] = accuracy_score(y_class_train[cl], train_predict)\n",
        "    knn_accuracy_test[cl] = accuracy_score(y_class_test[cl], test_predict)\n",
        "    \n",
        "    knn_train_confusion_matrix[cl] = metrics.confusion_matrix(y_class_train[cl], train_predict)\n",
        "    knn_test_confusion_matrix[cl] = metrics.confusion_matrix(y_class_test[cl], test_predict)"
      ]
    },
    {
      "cell_type": "code",
      "execution_count": 292,
      "id": "7db2604f",
      "metadata": {
        "cellView": "form",
        "id": "7db2604f"
      },
      "outputs": [],
      "source": [
        "#@title decision trees\n",
        "\n",
        "\n",
        "dtc_accuracy_test = dict()\n",
        "dtc_accuracy_train = dict()\n",
        "dtc_train_confusion_matrix = dict()\n",
        "dtc_test_confusion_matrix = dict()\n",
        "\n",
        "for cl in requirement_classes:\n",
        "    train_predict = model_class_dtc[cl].predict(X_class_train[cl])\n",
        "    test_predict = model_class_dtc[cl].predict(X_class_test[cl])\n",
        "\n",
        "    dtc_accuracy_train[cl] = accuracy_score(y_class_train[cl], train_predict)\n",
        "    dtc_accuracy_test[cl] = accuracy_score(y_class_test[cl], test_predict)\n",
        "\n",
        "    dtc_train_confusion_matrix[cl] = metrics.confusion_matrix(y_class_train[cl], train_predict)\n",
        "    dtc_test_confusion_matrix[cl] = metrics.confusion_matrix(y_class_test[cl], test_predict)\n",
        "    "
      ]
    },
    {
      "cell_type": "code",
      "execution_count": 293,
      "id": "22147c89",
      "metadata": {
        "cellView": "form",
        "id": "22147c89"
      },
      "outputs": [],
      "source": [
        "#@title support vector machine\n",
        "\n",
        "svc_accuracy_test = dict()\n",
        "svc_accuracy_train = dict()\n",
        "svc_train_confusion_matrix = dict()\n",
        "svc_test_confusion_matrix = dict()\n",
        "\n",
        "for cl in requirement_classes:\n",
        "    train_predict = model_class_svc[cl].predict(X_class_train[cl])\n",
        "    test_predict = model_class_svc[cl].predict(X_class_test[cl])\n",
        "\n",
        "    svc_accuracy_train[cl] = accuracy_score(y_class_train[cl], train_predict)\n",
        "    svc_accuracy_test[cl] = accuracy_score(y_class_test[cl], test_predict)\n",
        "    \n",
        "    svc_train_confusion_matrix[cl] = metrics.confusion_matrix(y_class_train[cl], train_predict)\n",
        "    svc_test_confusion_matrix[cl] = metrics.confusion_matrix(y_class_test[cl], test_predict)\n",
        "  "
      ]
    },
    {
      "cell_type": "code",
      "execution_count": 294,
      "id": "c9400a01",
      "metadata": {
        "id": "c9400a01"
      },
      "outputs": [],
      "source": [
        "#@title random forest\n",
        "\n",
        "rf_accuracy_test = dict()\n",
        "rf_accuracy_train = dict()\n",
        "rf_train_confusion_matrix = dict()\n",
        "rf_test_confusion_matrix = dict()\n",
        "\n",
        "for cl in requirement_classes:\n",
        "  train_predict = model_class_rf[cl].predict(X_class_train[cl])\n",
        "  test_predict = model_class_rf[cl].predict(X_class_test[cl])\n",
        "  \n",
        "  rf_accuracy_train[cl] = accuracy_score(y_class_train[cl], train_predict)\n",
        "  rf_accuracy_test[cl] = accuracy_score(y_class_test[cl], test_predict)\n",
        "  \n",
        "  rf_train_confusion_matrix[cl] = metrics.confusion_matrix(y_class_train[cl], train_predict)\n",
        "  rf_test_confusion_matrix[cl] = metrics.confusion_matrix(y_class_test[cl], test_predict)\n",
        "    "
      ]
    },
    {
      "cell_type": "markdown",
      "id": "9e07980b",
      "metadata": {
        "id": "9e07980b"
      },
      "source": [
        "## Confusion matrix"
      ]
    },
    {
      "cell_type": "code",
      "execution_count": 295,
      "id": "b3b23ca6",
      "metadata": {
        "cellView": "form",
        "id": "b3b23ca6"
      },
      "outputs": [],
      "source": [
        "#@title variables declaration\n",
        "classifiers = list({'lr', 'nb', 'knn', 'dtc', 'svc', 'rf'})\n",
        "mean_train_accuracy = dict()\n",
        "mean_test_accuracy = dict()\n",
        "\n",
        "for i in classifiers:\n",
        "    mean_train_accuracy[i] = 0.0\n",
        "    mean_test_accuracy[i] = 0.0"
      ]
    },
    {
      "cell_type": "code",
      "source": [
        "#@title Confusion matrix function definition\n",
        "cf = dict()\n",
        "def confusion_matrix_by_classifier (classifier, confusion_matrix):\n",
        "  cf[classifier] = 0\n",
        "  for cl in requirement_classes:\n",
        "    cf[classifier] += confusion_matrix[cl]\n",
        "  print('confusion matrix for ', classifier, ' classifier:\\n', cf[classifier], '\\n')"
      ],
      "metadata": {
        "cellView": "form",
        "id": "TUttCzUnu1yb"
      },
      "id": "TUttCzUnu1yb",
      "execution_count": 296,
      "outputs": []
    },
    {
      "cell_type": "code",
      "source": [
        "#@title Confusion Matrixes for different classifiers\n",
        "lr_confusionMatrix = confusion_matrix_by_classifier('lr', lr_test_confusion_matrix)\n",
        "nb_confusionMatrix = confusion_matrix_by_classifier('nb', nb_test_confusion_matrix)\n",
        "svc_confusionMatrix = confusion_matrix_by_classifier('svc', svc_test_confusion_matrix)\n",
        "rf_confusionMatrix = confusion_matrix_by_classifier('rf', rf_test_confusion_matrix)\n",
        "dtc_confusion_matrix = confusion_matrix_by_classifier('dtc', dtc_test_confusion_matrix)\n",
        "knn_confusion_matrix = confusion_matrix_by_classifier('knn', knn_test_confusion_matrix)"
      ],
      "metadata": {
        "colab": {
          "base_uri": "https://localhost:8080/"
        },
        "id": "ooXr2Yvk1ZVl",
        "outputId": "c119fb67-6477-4cf3-d5df-37690bc2fa85"
      },
      "id": "ooXr2Yvk1ZVl",
      "execution_count": 297,
      "outputs": [
        {
          "output_type": "stream",
          "name": "stdout",
          "text": [
            "confusion matrix for  lr  classifier:\n",
            " [[6759   28]\n",
            " [ 411   30]] \n",
            "\n",
            "confusion matrix for  nb  classifier:\n",
            " [[5461 1326]\n",
            " [ 216  225]] \n",
            "\n",
            "confusion matrix for  svc  classifier:\n",
            " [[6687  100]\n",
            " [ 436    5]] \n",
            "\n",
            "confusion matrix for  rf  classifier:\n",
            " [[6428  359]\n",
            " [ 385   56]] \n",
            "\n",
            "confusion matrix for  dtc  classifier:\n",
            " [[6301  486]\n",
            " [ 370   71]] \n",
            "\n",
            "confusion matrix for  knn  classifier:\n",
            " [[6568  219]\n",
            " [ 404   37]] \n",
            "\n"
          ]
        }
      ]
    },
    {
      "cell_type": "markdown",
      "source": [
        "##Mean Accuracy"
      ],
      "metadata": {
        "id": "jILiEROD5085"
      },
      "id": "jILiEROD5085"
    },
    {
      "cell_type": "code",
      "execution_count": 298,
      "id": "4214e92f",
      "metadata": {
        "colab": {
          "base_uri": "https://localhost:8080/"
        },
        "id": "4214e92f",
        "outputId": "6b233f6e-b050-4372-eacc-2e75cfa0c65b"
      },
      "outputs": [
        {
          "output_type": "stream",
          "name": "stdout",
          "text": [
            "Логистическая регрессия\n",
            "mean train accuracy:  0.9396098505810737\n",
            "mean test accuracy:  0.939263973436635\n"
          ]
        }
      ],
      "source": [
        "#@title logistic regression\n",
        "print('Логистическая регрессия')\n",
        "\n",
        "for cl in requirement_classes:\n",
        "    '''\n",
        "    print(cl)\n",
        "    print ('Точность на обучающей выборке: ',lr_accuracy_train[cl])\n",
        "    print('Точность на тестовой выборке: ', lr_accuracy_test[cl], end='\\n\\n')\n",
        "    '''\n",
        "    mean_train_accuracy['lr'] += lr_accuracy_train[cl]\n",
        "    mean_test_accuracy['lr'] += lr_accuracy_test[cl]\n",
        "\n",
        "mean_train_accuracy['lr'] = mean_train_accuracy['lr']/len(requirement_classes)\n",
        "mean_test_accuracy['lr'] = mean_test_accuracy['lr']/len(requirement_classes)\n",
        "\n",
        "print ('mean train accuracy: ', mean_train_accuracy['lr'])\n",
        "print ('mean test accuracy: ', mean_test_accuracy['lr'])"
      ]
    },
    {
      "cell_type": "code",
      "execution_count": 299,
      "id": "c76d6ae5",
      "metadata": {
        "colab": {
          "base_uri": "https://localhost:8080/"
        },
        "cellView": "form",
        "id": "c76d6ae5",
        "outputId": "02e6cc19-f515-4b91-c3f7-766c12487610"
      },
      "outputs": [
        {
          "output_type": "stream",
          "name": "stdout",
          "text": [
            "Наивный Байес\n",
            "mean train accuracy:  0.7811635307138902\n",
            "mean test accuracy:  0.7866629773104593\n"
          ]
        }
      ],
      "source": [
        "#@title naive bias\n",
        "\n",
        "print('Наивный Байес')\n",
        "\n",
        "for cl in requirement_classes:\n",
        "    '''\n",
        "    print(cl)\n",
        "    print ('Точность на обучающей выборке: ',nb_accuracy_train[cl])\n",
        "    print('Точность на тестовой выборке: ', nb_accuracy_test[cl], end='\\n\\n')\n",
        "    '''\n",
        "    mean_train_accuracy['nb'] += nb_accuracy_train[cl]\n",
        "    mean_test_accuracy['nb'] += nb_accuracy_test[cl]\n",
        "mean_train_accuracy['nb'] = mean_train_accuracy['nb']/len(requirement_classes)\n",
        "mean_test_accuracy['nb'] = mean_test_accuracy['nb']/len(requirement_classes)\n",
        "\n",
        "print ('mean train accuracy: ', mean_train_accuracy['nb'])\n",
        "print ('mean test accuracy: ', mean_test_accuracy['nb'])"
      ]
    },
    {
      "cell_type": "code",
      "execution_count": 300,
      "id": "074fbea3",
      "metadata": {
        "colab": {
          "base_uri": "https://localhost:8080/"
        },
        "cellView": "form",
        "id": "074fbea3",
        "outputId": "b9961d95-c135-498b-bdac-2fa80201e374"
      },
      "outputs": [
        {
          "output_type": "stream",
          "name": "stdout",
          "text": [
            "k-ближайших соседей\n",
            "mean train accuracy:  0.9113516878804648\n",
            "mean test accuracy:  0.9138074156059767\n"
          ]
        }
      ],
      "source": [
        "#@title KNN\n",
        "\n",
        "print('k-ближайших соседей')\n",
        "\n",
        "for cl in requirement_classes:\n",
        "    '''\n",
        "    print(cl)\n",
        "    print ('Точность на обучающей выборке: ',knn_accuracy_train[cl])\n",
        "    print('Точность на тестовой выборке: ', knn_accuracy_test[cl], end='\\n\\n')\n",
        "    '''\n",
        "    mean_train_accuracy['knn'] += knn_accuracy_train[cl]\n",
        "    mean_test_accuracy['knn'] += knn_accuracy_test[cl]\n",
        "mean_train_accuracy['knn'] = mean_train_accuracy['knn']/len(requirement_classes)\n",
        "mean_test_accuracy['knn'] = mean_test_accuracy['knn']/len(requirement_classes)\n",
        "\n",
        "print ('mean train accuracy: ', mean_train_accuracy['knn'])\n",
        "print ('mean test accuracy: ', mean_test_accuracy['knn'])"
      ]
    },
    {
      "cell_type": "code",
      "execution_count": 301,
      "id": "9e583b65",
      "metadata": {
        "colab": {
          "base_uri": "https://localhost:8080/"
        },
        "cellView": "form",
        "id": "9e583b65",
        "outputId": "fbaa5d8c-1bd3-485c-9d47-179591cc780a"
      },
      "outputs": [
        {
          "output_type": "stream",
          "name": "stdout",
          "text": [
            "Метод решающих деревьев\n",
            "mean train accuracy:  0.8799806308799114\n",
            "mean test accuracy:  0.8815716657443275\n"
          ]
        }
      ],
      "source": [
        "#@title decision trees\n",
        "\n",
        "print('Метод решающих деревьев')\n",
        "\n",
        "for cl in requirement_classes:\n",
        "    '''\n",
        "    print(cl)\n",
        "    print ('Точность на обучающей выборке: ',dtc_accuracy_train[cl])\n",
        "    print('Точность на тестовой выборке: ', dtc_accuracy_test[cl], end='\\n\\n')\n",
        "    '''\n",
        "    mean_train_accuracy['dtc'] += dtc_accuracy_train[cl]\n",
        "    mean_test_accuracy['dtc'] += dtc_accuracy_test[cl]\n",
        "mean_train_accuracy['dtc'] = mean_train_accuracy['dtc']/len(requirement_classes)\n",
        "mean_test_accuracy['dtc'] = mean_test_accuracy['dtc']/len(requirement_classes)\n",
        "\n",
        "print ('mean train accuracy: ', mean_train_accuracy['dtc'])\n",
        "print ('mean test accuracy: ', mean_test_accuracy['dtc'])"
      ]
    },
    {
      "cell_type": "code",
      "execution_count": 302,
      "id": "8c1f22d7",
      "metadata": {
        "colab": {
          "base_uri": "https://localhost:8080/"
        },
        "cellView": "form",
        "id": "8c1f22d7",
        "outputId": "438bccaa-3513-4d30-dbc3-d588f58ebd3e"
      },
      "outputs": [
        {
          "output_type": "stream",
          "name": "stdout",
          "text": [
            "Метод опорных векторов\n",
            "mean train accuracy:  0.9262244050913112\n",
            "mean test accuracy:  0.9258439402324292\n"
          ]
        }
      ],
      "source": [
        "#@title support vector machine)\n",
        "\n",
        "print('Метод опорных векторов')\n",
        "\n",
        "for cl in requirement_classes:\n",
        "    '''\n",
        "    print(cl)\n",
        "    print ('Точность на обучающей выборке: ',svc_accuracy_train[cl])\n",
        "    print('Точность на тестовой выборке: ', svc_accuracy_test[cl], end='\\n\\n')\n",
        "    '''\n",
        "    mean_train_accuracy['svc'] += svc_accuracy_train[cl]\n",
        "    mean_test_accuracy['svc'] += svc_accuracy_test[cl]\n",
        "mean_train_accuracy['svc'] = mean_train_accuracy['svc']/len(requirement_classes)\n",
        "mean_test_accuracy['svc'] = mean_test_accuracy['svc']/len(requirement_classes)\n",
        "\n",
        "print ('mean train accuracy: ', mean_train_accuracy['svc'])\n",
        "print ('mean test accuracy: ', mean_test_accuracy['svc'])"
      ]
    },
    {
      "cell_type": "code",
      "execution_count": 303,
      "id": "b21def33",
      "metadata": {
        "colab": {
          "base_uri": "https://localhost:8080/"
        },
        "cellView": "form",
        "id": "b21def33",
        "outputId": "ce8b1305-a57d-43b6-fb13-657dbaf9c4f9"
      },
      "outputs": [
        {
          "output_type": "stream",
          "name": "stdout",
          "text": [
            "Случайный лес\n",
            "mean train accuracy:  0.8984504703929164\n",
            "mean test accuracy:  0.8970669618151633\n"
          ]
        }
      ],
      "source": [
        "#@title random forest\n",
        "\n",
        "print('Случайный лес')\n",
        "\n",
        "for cl in requirement_classes:\n",
        "    '''\n",
        "    print(cl)\n",
        "    print ('Точность на обучающей выборке: ',rf_accuracy_train[cl])\n",
        "    print('Точность на тестовой выборке: ', rf_accuracy_test[cl], end='\\n\\n')\n",
        "    '''\n",
        "    mean_train_accuracy['rf'] += rf_accuracy_train[cl]\n",
        "    mean_test_accuracy['rf'] += rf_accuracy_test[cl]\n",
        "mean_train_accuracy['rf'] = mean_train_accuracy['rf']/len(requirement_classes)\n",
        "mean_test_accuracy['rf'] = mean_test_accuracy['rf']/len(requirement_classes)\n",
        "\n",
        "print ('mean train accuracy: ', mean_train_accuracy['rf'])\n",
        "print ('mean test accuracy: ', mean_test_accuracy['rf'])"
      ]
    },
    {
      "cell_type": "markdown",
      "source": [
        "##Precision"
      ],
      "metadata": {
        "id": "ePFey1G-81d5"
      },
      "id": "ePFey1G-81d5"
    },
    {
      "cell_type": "code",
      "source": [
        "# Define the dictionary to store Precision metric for each classifier\n",
        "precision_metrics = {}\n",
        "\n",
        "# Iterate over each classifier and its predictions\n",
        "for classifier_name in classifiers:\n",
        "    precision_metrics[classifier_name] = 0\n",
        "    for cl in requirement_classes:\n",
        "      test_predict = classifier_models[classifier_name][cl].predict(X_class_test[cl])\n",
        "      \n",
        "      precision_metrics[classifier_name] += metrics.precision_score(y_class_test[cl], test_predict)\n",
        "    \n",
        "    precision_metrics[classifier_name] = precision_metrics[classifier_name]/len(requirement_classes)\n",
        "    print(\"precision for \", classifier_name, '\\n', precision_metrics[classifier_name], '\\n')"
      ],
      "metadata": {
        "colab": {
          "base_uri": "https://localhost:8080/"
        },
        "id": "digXrOx79DTX",
        "outputId": "a789c5d2-78e7-4d05-d957-011469470fbf"
      },
      "id": "digXrOx79DTX",
      "execution_count": 304,
      "outputs": [
        {
          "output_type": "stream",
          "name": "stdout",
          "text": [
            "precision for  dtc \n",
            " 0.13400953365595572 \n",
            "\n",
            "precision for  svc \n",
            " 0.09615384615384616 \n",
            "\n",
            "precision for  knn \n",
            " 0.1889252031493411 \n",
            "\n",
            "precision for  rf \n",
            " 0.1469588495698491 \n",
            "\n",
            "precision for  nb \n",
            " 0.1486702551836583 \n",
            "\n",
            "precision for  lr \n",
            " 0.33186813186813185 \n",
            "\n"
          ]
        }
      ]
    },
    {
      "cell_type": "markdown",
      "source": [
        "##Recall"
      ],
      "metadata": {
        "id": "yF-YfnR-89JR"
      },
      "id": "yF-YfnR-89JR"
    },
    {
      "cell_type": "code",
      "source": [
        "# Define the dictionary to store Recall metric for each classifier\n",
        "recall_metrics = {}\n",
        "\n",
        "# Iterate over each classifier and its predictions\n",
        "for classifier_name in classifiers:\n",
        "    recall_metrics[classifier_name] = 0\n",
        "    for cl in requirement_classes:\n",
        "        test_predict = classifier_models[classifier_name][cl].predict(X_class_test[cl])\n",
        "        recall_metrics[classifier_name] += metrics.recall_score(y_class_test[cl], test_predict)\n",
        "\n",
        "    recall_metrics[classifier_name] = recall_metrics[classifier_name] / len(requirement_classes)\n",
        "    print(\"Recall for\", classifier_name, \":\\n\", recall_metrics[classifier_name], \"\\n\")\n"
      ],
      "metadata": {
        "colab": {
          "base_uri": "https://localhost:8080/"
        },
        "id": "t_AJjYsG9Dq1",
        "outputId": "a8b36560-9ad3-4aa0-a766-93a4f1c05385"
      },
      "id": "t_AJjYsG9Dq1",
      "execution_count": 305,
      "outputs": [
        {
          "output_type": "stream",
          "name": "stdout",
          "text": [
            "Recall for dtc :\n",
            " 0.16889921837632854 \n",
            "\n",
            "Recall for svc :\n",
            " 0.006418581418581418 \n",
            "\n",
            "Recall for knn :\n",
            " 0.11930867935092543 \n",
            "\n",
            "Recall for rf :\n",
            " 0.15869590155527982 \n",
            "\n",
            "Recall for nb :\n",
            " 0.6289199713536038 \n",
            "\n",
            "Recall for lr :\n",
            " 0.11950782754323294 \n",
            "\n"
          ]
        }
      ]
    },
    {
      "cell_type": "markdown",
      "source": [
        "##F1"
      ],
      "metadata": {
        "id": "hPHuKjzz884G"
      },
      "id": "hPHuKjzz884G"
    },
    {
      "cell_type": "code",
      "source": [
        "# Define the dictionary to store F1 metric for each classifier\n",
        "f1_metrics = {}\n",
        "\n",
        "# Iterate over each classifier and its predictions\n",
        "for classifier_name in classifiers:\n",
        "    f1_metrics[classifier_name] = 0\n",
        "    for cl in requirement_classes:\n",
        "        test_predict = classifier_models[classifier_name][cl].predict(X_class_test[cl])\n",
        "        f1_metrics[classifier_name] += metrics.f1_score(y_class_test[cl], test_predict)\n",
        "    \n",
        "    f1_metrics[classifier_name] = f1_metrics[classifier_name] / len(requirement_classes)\n",
        "    print(\"F1 metric for\", classifier_name, \":\", f1_metrics[classifier_name])\n"
      ],
      "metadata": {
        "colab": {
          "base_uri": "https://localhost:8080/"
        },
        "id": "RddpH91w9EMD",
        "outputId": "00387444-934f-4a15-8036-8213c533db15"
      },
      "id": "RddpH91w9EMD",
      "execution_count": 306,
      "outputs": [
        {
          "output_type": "stream",
          "name": "stdout",
          "text": [
            "F1 metric for dtc : 0.1291518804549025\n",
            "F1 metric for svc : 0.011930522592954535\n",
            "F1 metric for knn : 0.1219176318441815\n",
            "F1 metric for rf : 0.13460047173071574\n",
            "F1 metric for nb : 0.2183484447747447\n",
            "F1 metric for lr : 0.1619223290041107\n"
          ]
        }
      ]
    },
    {
      "cell_type": "markdown",
      "id": "d2205fdc",
      "metadata": {
        "id": "d2205fdc"
      },
      "source": [
        "## Визуализация результатовб полученных на основе BOW"
      ]
    },
    {
      "cell_type": "markdown",
      "id": "f2efa515",
      "metadata": {
        "id": "f2efa515"
      },
      "source": [
        "методом линейной регрессии получилась следующая точность классификации для каждого класса:"
      ]
    },
    {
      "cell_type": "code",
      "execution_count": 307,
      "id": "d928a6b4",
      "metadata": {
        "scrolled": true,
        "colab": {
          "base_uri": "https://localhost:8080/",
          "height": 751
        },
        "id": "d928a6b4",
        "outputId": "8324c38d-1f09-40a2-a834-33821ff1031b"
      },
      "outputs": [
        {
          "output_type": "display_data",
          "data": {
            "text/plain": [
              "<Figure size 1200x600 with 1 Axes>"
            ],
            "image/png": "[encoded data removed]"
          },
          "metadata": {}
        }
      ],
      "source": [
        "plt.style.use('seaborn')\n",
        "\n",
        "plt.figure(figsize=(12,6))\n",
        "plt.bar(requirement_classes,lr_accuracy_test.values(), width=0.6)\n",
        "plt.title('Точность линейной регрессионной классификации для каждого класса требований')\n",
        "a = plt.xticks(rotation=90)\n",
        "plt.axhline(0.8,c='r',linestyle='--',label='0.8')\n",
        "plt.axhline(0.85,c='w',linestyle='--',label='0.85')\n",
        "plt.axhline(0.9,c='black',linestyle='--',label='0.9')\n",
        "plt.ylim(0.7, 1.05) # adjust y axis limits\n",
        "plt.legend()\n",
        "plt.xlabel('Requirement class')\n",
        "plt.ylabel('Accuracy score')\n",
        "plt.show()"
      ]
    },
    {
      "cell_type": "code",
      "execution_count": 308,
      "id": "bf81b442",
      "metadata": {
        "colab": {
          "base_uri": "https://localhost:8080/",
          "height": 509
        },
        "id": "bf81b442",
        "outputId": "190d866b-38b4-4d5d-e3c7-5060b328af8d"
      },
      "outputs": [
        {
          "output_type": "display_data",
          "data": {
            "text/plain": [
              "<Figure size 1200x600 with 1 Axes>"
            ],
            "image/png": "[encoded data removed]"
          },
          "metadata": {}
        }
      ],
      "source": [
        "plt.style.use('seaborn')\n",
        "\n",
        "plt.figure(figsize=(12,6))\n",
        "plt.bar(classifiers,mean_test_accuracy.values(),width=0.6, color={'red','green','blue','purple', 'skyblue','darkblue'})\n",
        "plt.title('Methods Accuracy')\n",
        "plt.axhline(0.8,c='r',linestyle='--',label='0.8')\n",
        "plt.axhline(0.85,c='w',linestyle='--',label='0.85')\n",
        "plt.axhline(0.9,c='black',linestyle='--',label='0.9')\n",
        "plt.legend()\n",
        "plt.autoscale()\n",
        "plt.xlabel('Method')\n",
        "plt.ylabel('Accuracy score')\n",
        "plt.show()"
      ]
    },
    {
      "cell_type": "code",
      "source": [
        "plt.style.use('seaborn')\n",
        "\n",
        "plt.figure(figsize=(12,6))\n",
        "plt.bar(classifiers, f1_metrics.values(), width=0.6, color={'red','green','blue','purple', 'skyblue','darkblue'})\n",
        "plt.title('Methods F1 Score')\n",
        "plt.legend()\n",
        "plt.autoscale()\n",
        "plt.xlabel('Method')\n",
        "plt.ylabel('F1 Score')\n",
        "plt.show()\n"
      ],
      "metadata": {
        "colab": {
          "base_uri": "https://localhost:8080/",
          "height": 542
        },
        "id": "_aRgL9XvFpK0",
        "outputId": "2b5ca73e-6e88-42c1-81d5-d4d938815980"
      },
      "id": "_aRgL9XvFpK0",
      "execution_count": 309,
      "outputs": [
        {
          "output_type": "stream",
          "name": "stderr",
          "text": [
            "WARNING:matplotlib.legend:No artists with labels found to put in legend.  Note that artists whose label start with an underscore are ignored when legend() is called with no argument.\n"
          ]
        },
        {
          "output_type": "display_data",
          "data": {
            "text/plain": [
              "<Figure size 1200x600 with 1 Axes>"
            ],
            "image/png": "[encoded data removed]"
          },
          "metadata": {}
        }
      ]
    },
    {
      "cell_type": "code",
      "execution_count": 310,
      "id": "e91aba4a",
      "metadata": {
        "colab": {
          "base_uri": "https://localhost:8080/"
        },
        "id": "e91aba4a",
        "outputId": "d38e9297-a673-4615-d73d-608d8d11a488"
      },
      "outputs": [
        {
          "output_type": "stream",
          "name": "stdout",
          "text": [
            "method \t train accuracy \t test accuracy \n",
            "\n",
            "dtc \t 0.8799806308799114 \t 0.8815716657443275\n",
            "svc \t 0.9262244050913112 \t 0.9258439402324292\n",
            "knn \t 0.9113516878804648 \t 0.9138074156059767\n",
            "rf \t 0.8984504703929164 \t 0.8970669618151633\n",
            "nb \t 0.7811635307138902 \t 0.7866629773104593\n",
            "lr \t 0.9396098505810737 \t 0.939263973436635\n"
          ]
        }
      ],
      "source": [
        "print ('method', '\\t', 'train accuracy', '\\t', 'test accuracy', '\\n')\n",
        "for i in classifiers:\n",
        "    print (i, '\\t', mean_train_accuracy[i], '\\t', mean_test_accuracy[i])"
      ]
    },
    {
      "cell_type": "markdown",
      "source": [
        "#CountVectorizer model\n",
        "\n"
      ],
      "metadata": {
        "id": "3tTwRO4lWrkA"
      },
      "id": "3tTwRO4lWrkA"
    },
    {
      "cell_type": "code",
      "source": [
        "#@title train test split with the help of function split_train_test\n",
        "\n",
        "X_class_train = dict()\n",
        "X_class_test = dict()\n",
        "y_class_train = dict()\n",
        "y_class_test = dict()\n",
        "\n",
        "for cl in requirement_classes:\n",
        "    X_class_train[cl],X_class_test[cl],y_class_train[cl],y_class_test[cl]=split_train_test(dataframe_=data, target_=cl, features_='lemmatized_requirement')"
      ],
      "metadata": {
        "id": "4PBsrEISXAlW"
      },
      "id": "4PBsrEISXAlW",
      "execution_count": 312,
      "outputs": []
    },
    {
      "cell_type": "code",
      "source": [
        "#@title initialize and transform CountVectorizers for each classification task\n",
        "# Initialize a CountVectorizer object: count_vectorizer\n",
        "count_train = dict()\n",
        "count_test = dict()\n",
        "count_vectorizers = dict()\n",
        "\n",
        "\n",
        "for cl in requirement_classes:\n",
        "\n",
        "  count_vectorizers[cl] = CountVectorizer(stop_words=\"english\")\n",
        "  \n",
        "  # Transform the training data using only the 'text' column values: count_train \n",
        "  count_train[cl] = count_vectorizers[cl].fit_transform(X_class_train[cl])\n",
        "\n",
        "  # Transform the test data using only the 'text' column values: count_test \n",
        "  count_test[cl] = count_vectorizers[cl].transform(X_class_test[cl])"
      ],
      "metadata": {
        "id": "6IgQIC9ZWqdG"
      },
      "id": "6IgQIC9ZWqdG",
      "execution_count": 325,
      "outputs": []
    },
    {
      "cell_type": "code",
      "source": [
        "# Initialize a dictionary to store classifiers\n",
        "classifiers = {}\n",
        "\n",
        "# Iterate over each classification task\n",
        "for cl in requirement_classes:\n",
        "    # Instantiate a Multinomial Naive Bayes classifier for the current task\n",
        "    nb_classifier = MultinomialNB()\n",
        "  \n",
        "    # Fit the classifier to the training data for the current task\n",
        "    nb_classifier.fit(count_train[cl], y_class_train[cl])\n",
        "  \n",
        "    # Store the classifier in the dictionary\n",
        "    classifiers[cl] = nb_classifier\n",
        "\n",
        "# Create a dictionary to store predicted tags for each classification task\n",
        "pred = {}\n",
        "\n",
        "# Create a dictionary to store accuracy scores for each classification task\n",
        "scores = {}\n",
        "\n",
        "# Create dictionaries to store precision, recall, and F1-score for each classification task\n",
        "precision = {}\n",
        "recall = {}\n",
        "f1_score = {}\n",
        "\n",
        "# Iterate over each classification task\n",
        "for cl in requirement_classes:\n",
        "    # Predict the tags for the test data of the current task\n",
        "    pred[cl] = classifiers[cl].predict(count_test[cl])\n",
        "  \n",
        "    # Calculate the accuracy score for the current task\n",
        "    scores[cl] = metrics.accuracy_score(y_class_test[cl], pred[cl])\n",
        "    print(\"Accuracy score for\", cl, \":\", scores[cl])\n",
        "\n",
        "    # Calculate the confusion matrix for the current task\n",
        "    cms[cl] = metrics.confusion_matrix(y_class_test[cl], pred[cl], labels=[1, 0])\n",
        "    print(\"Confusion matrix for\", cl, \":\\n\", cms[cl])\n",
        "\n",
        "    # Calculate precision, recall, and F1-score for the current task\n",
        "    precision[cl] = metrics.precision_score(y_class_test[cl], pred[cl])\n",
        "    recall[cl] = metrics.recall_score(y_class_test[cl], pred[cl])\n",
        "    f1_score[cl] = metrics.f1_score(y_class_test[cl], pred[cl])\n",
        "\n",
        "    print(\"Precision for\", cl, \":\", precision[cl])\n",
        "    print(\"Recall for\", cl, \":\", recall[cl])\n",
        "    print(\"F1-score for\", cl, \":\", f1_score[cl], '\\n')"
      ],
      "metadata": {
        "id": "dJwnCuBydzIb"
      },
      "id": "dJwnCuBydzIb",
      "execution_count": null,
      "outputs": []
    },
    {
      "cell_type": "code",
      "source": [
        "# Sort the f1_score dictionary based on F1-score values in descending order\n",
        "sorted_scores = sorted(f1_score.items(), key=lambda x: x[1], reverse=True)\n",
        "\n",
        "# Print the titles and scores in descending order\n",
        "print(\"F1-scores in descending order:\")\n",
        "for title, score in sorted_scores:\n",
        "    print(title, \"F1-score:\", score)"
      ],
      "metadata": {
        "colab": {
          "base_uri": "https://localhost:8080/"
        },
        "id": "Oa7B1VWBkEXd",
        "outputId": "2ee52545-0df4-42f6-b0fd-dc36d0530b26"
      },
      "id": "Oa7B1VWBkEXd",
      "execution_count": 339,
      "outputs": [
        {
          "output_type": "stream",
          "name": "stdout",
          "text": [
            "F1-scores in descending order:\n",
            "Error Handling F1-score: 0.7499999999999999\n",
            "Payment flow and details F1-score: 0.7368421052631577\n",
            "Search and Search Engine Optimization(SEO) F1-score: 0.7142857142857143\n",
            "Supportability and Device Compatibility F1-score: 0.6666666666666667\n",
            "Links F1-score: 0.6521739130434783\n",
            "Integration F1-score: 0.626865671641791\n",
            "Features and Functions F1-score: 0.6065573770491803\n",
            "Design and Content F1-score: 0.5925925925925927\n",
            "Social Media Links and Icons F1-score: 0.5714285714285715\n",
            "Password Policy and Setup F1-score: 0.5454545454545454\n",
            "Performance F1-score: 0.5294117647058824\n",
            "Security and Privacy Policy F1-score: 0.5217391304347826\n",
            "Navigation F1-score: 0.5\n",
            "Authentication and Authorization F1-score: 0.4782608695652174\n",
            "Data Integrity and Consistency F1-score: 0.47619047619047616\n",
            "Contact Details F1-score: 0.4\n",
            "Downloads F1-score: 0.33333333333333337\n",
            "Product Page and Products F1-score: 0.33333333333333337\n",
            "Customer Support F1-score: 0.2857142857142857\n",
            "Forms and Validation of Input F1-score: 0.25000000000000006\n",
            "Home Page F1-score: 0.22222222222222224\n",
            "Notifications and Alerts F1-score: 0.1818181818181818\n",
            "Usability and Accessibility  F1-score: 0.08695652173913043\n",
            "Account Details and Settings F1-score: 0.0\n",
            "Language Compatibility F1-score: 0.0\n",
            "all Web Pages in the website F1-score: 0.0\n"
          ]
        }
      ]
    },
    {
      "cell_type": "code",
      "source": [
        "f1_score"
      ],
      "metadata": {
        "colab": {
          "base_uri": "https://localhost:8080/"
        },
        "id": "V4OOQLgsmUZw",
        "outputId": "b019d119-e280-4660-dc90-abd5207e61c0"
      },
      "id": "V4OOQLgsmUZw",
      "execution_count": 350,
      "outputs": [
        {
          "output_type": "execute_result",
          "data": {
            "text/plain": [
              "{'Account Details and Settings': 0.0,\n",
              " 'Authentication and Authorization': 0.4782608695652174,\n",
              " 'Contact Details': 0.4,\n",
              " 'Customer Support': 0.2857142857142857,\n",
              " 'Data Integrity and Consistency': 0.47619047619047616,\n",
              " 'Design and Content': 0.5925925925925927,\n",
              " 'Downloads': 0.33333333333333337,\n",
              " 'Error Handling': 0.7499999999999999,\n",
              " 'Features and Functions': 0.6065573770491803,\n",
              " 'Forms and Validation of Input': 0.25000000000000006,\n",
              " 'Home Page': 0.22222222222222224,\n",
              " 'Language Compatibility': 0.0,\n",
              " 'Links': 0.6521739130434783,\n",
              " 'Navigation': 0.5,\n",
              " 'Notifications and Alerts': 0.1818181818181818,\n",
              " 'Password Policy and Setup': 0.5454545454545454,\n",
              " 'Payment flow and details': 0.7368421052631577,\n",
              " 'Performance': 0.5294117647058824,\n",
              " 'Product Page and Products': 0.33333333333333337,\n",
              " 'Search and Search Engine Optimization(SEO)': 0.7142857142857143,\n",
              " 'Security and Privacy Policy': 0.5217391304347826,\n",
              " 'Social Media Links and Icons': 0.5714285714285715,\n",
              " 'Supportability and Device Compatibility': 0.6666666666666667,\n",
              " 'Usability and Accessibility ': 0.08695652173913043,\n",
              " 'all Web Pages in the website': 0.0,\n",
              " 'Integration': 0.626865671641791}"
            ]
          },
          "metadata": {},
          "execution_count": 350
        }
      ]
    },
    {
      "cell_type": "code",
      "source": [
        "plt.style.use('seaborn')\n",
        "\n",
        "plt.figure(figsize=(12,6))\n",
        "plt.bar(f1_score.keys(), f1_score.values(), width=0.6)\n",
        "plt.title('F1-score для каждого класса требований')\n",
        "plt.xticks(rotation=90)\n",
        "#plt.axhline(0.8, c='r', linestyle='--', label='0.8')\n",
        "#plt.axhline(0.85, c='w', linestyle='--', label='0.85')\n",
        "#plt.axhline(0.9, c='black', linestyle='--', label='0.9')\n",
        "plt.autoscale()\n",
        "plt.legend()\n",
        "plt.xlabel('Requirement class')\n",
        "plt.ylabel('F1-score')\n",
        "plt.show()\n"
      ],
      "metadata": {
        "colab": {
          "base_uri": "https://localhost:8080/",
          "height": 793
        },
        "id": "wCdd6V6Nlc7e",
        "outputId": "af1e2071-7e60-4499-8205-4a837681ea36"
      },
      "id": "wCdd6V6Nlc7e",
      "execution_count": 351,
      "outputs": [
        {
          "output_type": "stream",
          "name": "stderr",
          "text": [
            "WARNING:matplotlib.legend:No artists with labels found to put in legend.  Note that artists whose label start with an underscore are ignored when legend() is called with no argument.\n"
          ]
        },
        {
          "output_type": "display_data",
          "data": {
            "text/plain": [
              "<Figure size 1200x600 with 1 Axes>"
            ],
            "image/png": "[encoded data removed]"
          },
          "metadata": {}
        }
      ]
    }
  ],
  "metadata": {
    "kernelspec": {
      "display_name": "Python 3",
      "language": "python",
      "name": "python3"
    },
    "language_info": {
      "codemirror_mode": {
        "name": "ipython",
        "version": 3
      },
      "file_extension": ".py",
      "mimetype": "text/x-python",
      "name": "python",
      "nbconvert_exporter": "python",
      "pygments_lexer": "ipython3",
      "version": "3.8.8"
    },
    "colab": {
      "provenance": [],
      "toc_visible": true,
      "include_colab_link": true
    }
  },
  "nbformat": 4,
  "nbformat_minor": 5
}