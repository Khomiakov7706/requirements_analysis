{
  "cells": [
    {
      "cell_type": "markdown",
      "metadata": {
        "id": "view-in-github",
        "colab_type": "text"
      },
      "source": [
        "<a href=\"https://colab.research.google.com/github/Khomiakov7706/requirements_analysis/blob/develop/Requirement_analysis.ipynb\" target=\"_parent\"><img src=\"https://colab.research.google.com/assets/colab-badge.svg\" alt=\"Open In Colab\"/></a>"
      ]
    },
    {
      "cell_type": "markdown",
      "id": "3be1c0f7",
      "metadata": {
        "id": "3be1c0f7"
      },
      "source": [
        "# Классификация формулировок требований при помощи Bag of words"
      ]
    },
    {
      "cell_type": "code",
      "execution_count": 103,
      "id": "0da7ec38",
      "metadata": {
        "id": "0da7ec38"
      },
      "outputs": [],
      "source": [
        "import os\n",
        "import sys\n",
        "import pandas as pd\n",
        "import numpy as np\n",
        "import datetime\n",
        "from matplotlib import pyplot as plt\n",
        "import seaborn as sns\n",
        "from IPython.display import display, Markdown\n",
        "from sklearn import metrics\n",
        "\n",
        "plt.rcParams.update({'figure.max_open_warning': 0})\n",
        "pd.set_option('display.max_colwidth',1000)\n",
        "pd.set_option('display.max_columns', 500)"
      ]
    },
    {
      "cell_type": "code",
      "source": [
        "#@title Data URL. { display-mode: \"form\" }\n",
        "data_url = 'https://raw.githubusercontent.com/Khomiakov7706/requirements_analysis/main/train_test_withcols1.csv' #@param {type: 'string'}"
      ],
      "metadata": {
        "id": "Pcbg_k65Z4qz"
      },
      "id": "Pcbg_k65Z4qz",
      "execution_count": 5,
      "outputs": []
    },
    {
      "cell_type": "code",
      "execution_count": 6,
      "id": "3af6906a",
      "metadata": {
        "id": "3af6906a"
      },
      "outputs": [],
      "source": [
        "data = pd.read_csv(data_url)"
      ]
    },
    {
      "cell_type": "code",
      "execution_count": 7,
      "id": "2552afa7",
      "metadata": {
        "colab": {
          "base_uri": "https://localhost:8080/"
        },
        "id": "2552afa7",
        "outputId": "53d3fede-5f10-476c-bfac-b0544f161960"
      },
      "outputs": [
        {
          "output_type": "stream",
          "name": "stderr",
          "text": [
            "<ipython-input-7-a88a7e1872b6>:1: FutureWarning: In a future version of pandas all arguments of DataFrame.drop except for the argument 'labels' will be keyword-only.\n",
            "  data = data.drop('req_type', 1)\n",
            "<ipython-input-7-a88a7e1872b6>:2: FutureWarning: In a future version of pandas all arguments of DataFrame.drop except for the argument 'labels' will be keyword-only.\n",
            "  data = data.drop('test_scenario', 1)\n"
          ]
        }
      ],
      "source": [
        "data = data.drop('req_type', 1)\n",
        "data = data.drop('test_scenario', 1)\n",
        "data = data.rename(columns={'requirement': 'requirement_text'})"
      ]
    },
    {
      "cell_type": "code",
      "execution_count": 8,
      "id": "10cc80dd",
      "metadata": {
        "id": "10cc80dd"
      },
      "outputs": [],
      "source": [
        "requirement_classes = list(data.columns[2:].values)"
      ]
    },
    {
      "cell_type": "code",
      "execution_count": 9,
      "id": "bedccd01",
      "metadata": {
        "id": "bedccd01"
      },
      "outputs": [],
      "source": [
        "all_words = data['requirement_text'].str.split(expand=True).unstack().value_counts()"
      ]
    },
    {
      "cell_type": "markdown",
      "id": "0ff0abf6",
      "metadata": {
        "id": "0ff0abf6"
      },
      "source": [
        "# Лемматизация"
      ]
    },
    {
      "cell_type": "code",
      "execution_count": 10,
      "id": "2e669277",
      "metadata": {
        "colab": {
          "base_uri": "https://localhost:8080/"
        },
        "id": "2e669277",
        "outputId": "431eba61-e48c-4f5e-f666-d1846c735c12"
      },
      "outputs": [
        {
          "output_type": "stream",
          "name": "stderr",
          "text": [
            "[nltk_data] Downloading package wordnet to /root/nltk_data...\n"
          ]
        }
      ],
      "source": [
        "import nltk\n",
        "from nltk.stem import WordNetLemmatizer\n",
        "nltk.download('wordnet')\n",
        "\n",
        "lemmatizer = WordNetLemmatizer()"
      ]
    },
    {
      "cell_type": "code",
      "execution_count": 11,
      "id": "bcde1a6b",
      "metadata": {
        "id": "bcde1a6b"
      },
      "outputs": [],
      "source": [
        "def lemmatization(text):\n",
        "    '''a function for lemmatization'''\n",
        "    text = [lemmatizer.lemmatize(word.lower()) for word in text.split()]\n",
        "    # joining the list of words with space separator\n",
        "    return \" \".join(text)"
      ]
    },
    {
      "cell_type": "code",
      "execution_count": 12,
      "id": "22b2a0b2",
      "metadata": {
        "id": "22b2a0b2"
      },
      "outputs": [],
      "source": [
        "data['lemmatized_requirement'] = data['requirement_text'].apply(lemmatization)"
      ]
    },
    {
      "cell_type": "markdown",
      "id": "a1a7bd3c",
      "metadata": {
        "id": "a1a7bd3c"
      },
      "source": [
        "Убираем стоп-слова"
      ]
    },
    {
      "cell_type": "code",
      "execution_count": 13,
      "id": "63715691",
      "metadata": {
        "colab": {
          "base_uri": "https://localhost:8080/"
        },
        "id": "63715691",
        "outputId": "fade61fa-c719-472e-9e3e-6847e60d9060"
      },
      "outputs": [
        {
          "output_type": "stream",
          "name": "stderr",
          "text": [
            "[nltk_data] Downloading package stopwords to /root/nltk_data...\n",
            "[nltk_data]   Unzipping corpora/stopwords.zip.\n"
          ]
        }
      ],
      "source": [
        "from nltk.corpus import stopwords\n",
        "import nltk\n",
        "nltk.download('stopwords')\n",
        "sw = stopwords.words('english')"
      ]
    },
    {
      "cell_type": "code",
      "execution_count": 14,
      "id": "4303ceb0",
      "metadata": {
        "id": "4303ceb0"
      },
      "outputs": [],
      "source": [
        "def stopwords(text):\n",
        "    '''a function for removing the stopword'''\n",
        "    # removing the stop words \n",
        "    text = [word for word in text.split() if word not in sw]\n",
        "    # joining the list of words with space separator\n",
        "    return \" \".join(text)"
      ]
    },
    {
      "cell_type": "code",
      "execution_count": 15,
      "id": "d38ba917",
      "metadata": {
        "id": "d38ba917"
      },
      "outputs": [],
      "source": [
        "data['lemmatized_requirement'] = data['lemmatized_requirement'].apply(stopwords)"
      ]
    },
    {
      "cell_type": "code",
      "execution_count": 16,
      "id": "58b9cb31",
      "metadata": {
        "id": "58b9cb31"
      },
      "outputs": [],
      "source": [
        "import re\n",
        "regex = re.compile('[^a-zA-Z а-яА-Я]')"
      ]
    },
    {
      "cell_type": "code",
      "execution_count": 17,
      "id": "7ddfef32",
      "metadata": {
        "id": "7ddfef32"
      },
      "outputs": [],
      "source": [
        "data.lemmatized_requirement = data.lemmatized_requirement.apply(lambda x: regex.sub('',x))"
      ]
    },
    {
      "cell_type": "markdown",
      "id": "ab6176b0",
      "metadata": {
        "id": "ab6176b0"
      },
      "source": [
        "# Выявление признаков из датасета"
      ]
    },
    {
      "cell_type": "markdown",
      "id": "4d0bf1e5",
      "metadata": {
        "id": "4d0bf1e5"
      },
      "source": [
        "## Синтетические признаки"
      ]
    },
    {
      "cell_type": "markdown",
      "id": "34944766",
      "metadata": {
        "id": "34944766"
      },
      "source": [
        "составляем набор признаков на основе текста Dataframe"
      ]
    },
    {
      "cell_type": "markdown",
      "id": "23cabd01",
      "metadata": {
        "id": "23cabd01"
      },
      "source": [
        "Количество слов в тексте требования "
      ]
    },
    {
      "cell_type": "code",
      "execution_count": 18,
      "id": "0cbae11b",
      "metadata": {
        "id": "0cbae11b"
      },
      "outputs": [],
      "source": [
        "data['words_in_requirement'] = (\n",
        "    data['requirement_text'].str.split().apply(len))"
      ]
    },
    {
      "cell_type": "markdown",
      "id": "2b5e17ad",
      "metadata": {
        "id": "2b5e17ad"
      },
      "source": [
        "Кол-во слов в тексте лемматизированного требования"
      ]
    },
    {
      "cell_type": "code",
      "execution_count": 19,
      "id": "b41a579c",
      "metadata": {
        "id": "b41a579c"
      },
      "outputs": [],
      "source": [
        "data['words_in_lemmatized_req'] = (\n",
        "    data['lemmatized_requirement'].str.split().apply(len))"
      ]
    },
    {
      "cell_type": "markdown",
      "id": "6ccdd3d2",
      "metadata": {
        "id": "6ccdd3d2"
      },
      "source": [
        "Кол-во исключенных слов при лемматизации"
      ]
    },
    {
      "cell_type": "code",
      "execution_count": 20,
      "id": "ccf692c3",
      "metadata": {
        "id": "ccf692c3"
      },
      "outputs": [],
      "source": [
        "data['words_diffence'] = (\n",
        "    data['words_in_requirement']-data['words_in_lemmatized_req'])"
      ]
    },
    {
      "cell_type": "code",
      "execution_count": 21,
      "id": "58b11bcb",
      "metadata": {
        "id": "58b11bcb"
      },
      "outputs": [],
      "source": [
        "additional_parameters = data.columns[-3:]"
      ]
    },
    {
      "cell_type": "markdown",
      "id": "ceb8d787",
      "metadata": {
        "id": "ceb8d787"
      },
      "source": [
        "## Слова-признаки"
      ]
    },
    {
      "cell_type": "markdown",
      "id": "671a88bb",
      "metadata": {
        "id": "671a88bb"
      },
      "source": [
        "Составляем словарь слов для разных классов с указанием количества используемых слов"
      ]
    },
    {
      "cell_type": "code",
      "execution_count": 24,
      "id": "fc5d4e63",
      "metadata": {
        "id": "fc5d4e63"
      },
      "outputs": [],
      "source": [
        "class_dict = dict()\n",
        "for c in range(len(requirement_classes)):\n",
        "    class_dict[requirement_classes[c]] = data[data[requirement_classes[c]]==1]['lemmatized_requirement'].str.split(expand=True).unstack().value_counts().head(15)"
      ]
    },
    {
      "cell_type": "markdown",
      "id": "7440662a",
      "metadata": {
        "id": "7440662a"
      },
      "source": [
        "Составляем мешок уникальных слов для каждого класса"
      ]
    },
    {
      "cell_type": "code",
      "execution_count": 25,
      "id": "ecee6530",
      "metadata": {
        "id": "ecee6530"
      },
      "outputs": [],
      "source": [
        "bag_of_word = []\n",
        "for i in requirement_classes:\n",
        "    for j in class_dict[i].index:\n",
        "        if not (j in bag_of_word):\n",
        "            bag_of_word.append(j)"
      ]
    },
    {
      "cell_type": "markdown",
      "id": "351bab4f",
      "metadata": {
        "id": "351bab4f"
      },
      "source": [
        "Выписываем наиболее используемые слова как признаки"
      ]
    },
    {
      "cell_type": "code",
      "execution_count": null,
      "id": "0c07c54a",
      "metadata": {
        "id": "0c07c54a"
      },
      "outputs": [],
      "source": [
        "for word in bag_of_word:\n",
        "    data[word]=data['lemmatized_requirement'].apply(lambda x: x.count(str (' ' + word + ' ')))"
      ]
    },
    {
      "cell_type": "markdown",
      "id": "e98fa432",
      "metadata": {
        "id": "e98fa432"
      },
      "source": [
        "Создаем разметку данных"
      ]
    },
    {
      "cell_type": "code",
      "execution_count": 27,
      "id": "0ec22795",
      "metadata": {
        "id": "0ec22795"
      },
      "outputs": [],
      "source": [
        "target = requirement_classes\n",
        "features = bag_of_word\n",
        "for i in additional_parameters:\n",
        "    features.append(i)"
      ]
    },
    {
      "cell_type": "markdown",
      "id": "48136d97",
      "metadata": {
        "id": "48136d97"
      },
      "source": [
        "# Разбиение на тестовую и валидационную выборки для каждого класса требований"
      ]
    },
    {
      "cell_type": "markdown",
      "id": "2ebf67f2",
      "metadata": {
        "id": "2ebf67f2"
      },
      "source": [
        "Всего 26 классов"
      ]
    },
    {
      "cell_type": "code",
      "execution_count": 28,
      "id": "7b15bada",
      "metadata": {
        "id": "7b15bada"
      },
      "outputs": [],
      "source": [
        "from sklearn.model_selection import train_test_split"
      ]
    },
    {
      "cell_type": "code",
      "execution_count": 29,
      "id": "bb938106",
      "metadata": {
        "id": "bb938106"
      },
      "outputs": [],
      "source": [
        "def split_train_test (dataframe_, target_, features_):\n",
        "        \n",
        "        X_train, X_test, y_train, y_test = train_test_split(dataframe_[features_],dataframe_[target_],test_size=0.2, random_state=77, stratify=dataframe_[target_])\n",
        "        \n",
        "        return X_train, X_test, y_train, y_test"
      ]
    },
    {
      "cell_type": "code",
      "execution_count": 30,
      "id": "be0ca120",
      "metadata": {
        "colab": {
          "base_uri": "https://localhost:8080/"
        },
        "id": "be0ca120",
        "outputId": "40954f18-1ac3-4ead-a1db-b87e21cdf211"
      },
      "outputs": [
        {
          "output_type": "execute_result",
          "data": {
            "text/plain": [
              "Index(['user', 'contact', 'account', 'information', 'field', 'shall', 'number',\n",
              "       'email', 'profile', 'website', 'include', 'phone', 'address', 'id',\n",
              "       'password'],\n",
              "      dtype='object')"
            ]
          },
          "metadata": {},
          "execution_count": 30
        }
      ],
      "source": [
        "class_dict['Verification of Account Details and Settings'].index"
      ]
    },
    {
      "cell_type": "code",
      "execution_count": 31,
      "id": "be896925",
      "metadata": {
        "id": "be896925"
      },
      "outputs": [],
      "source": [
        "X_class_train = dict()\n",
        "X_class_test = dict()\n",
        "y_class_train = dict()\n",
        "y_class_test = dict()\n",
        "\n",
        "for cl in requirement_classes:\n",
        "    X_class_train[cl],X_class_test[cl],y_class_train[cl],y_class_test[cl]=split_train_test(data, cl, class_dict[cl].index)"
      ]
    },
    {
      "cell_type": "markdown",
      "id": "6f991ee0",
      "metadata": {
        "id": "6f991ee0"
      },
      "source": [
        "# Нормализация"
      ]
    },
    {
      "cell_type": "code",
      "execution_count": 32,
      "id": "db3de3bb",
      "metadata": {
        "id": "db3de3bb"
      },
      "outputs": [],
      "source": [
        "from sklearn.preprocessing import MinMaxScaler\n"
      ]
    },
    {
      "cell_type": "markdown",
      "id": "0de36557",
      "metadata": {
        "id": "0de36557"
      },
      "source": [
        "Нормализация обучающей выборки"
      ]
    },
    {
      "cell_type": "code",
      "execution_count": 33,
      "id": "1438267b",
      "metadata": {
        "id": "1438267b"
      },
      "outputs": [],
      "source": [
        "scaler = dict()\n",
        "scaler_params = dict()\n",
        "for cl in requirement_classes:\n",
        "    scaler[cl] = MinMaxScaler()\n",
        "    X_class_train[cl] = scaler[cl].fit_transform(X_class_train[cl])"
      ]
    },
    {
      "cell_type": "markdown",
      "id": "8bfebb4d",
      "metadata": {
        "id": "8bfebb4d"
      },
      "source": [
        "Нормализация тестовой выборки на сонове парамтеров обучающей"
      ]
    },
    {
      "cell_type": "code",
      "execution_count": 34,
      "id": "3800a77d",
      "metadata": {
        "id": "3800a77d"
      },
      "outputs": [],
      "source": [
        "scaler_ = MinMaxScaler()\n",
        "for cl in requirement_classes:\n",
        "#    scaler[cl].get_params()\n",
        "    X_class_test[cl]=scaler[cl].transform(X_class_test[cl])"
      ]
    },
    {
      "cell_type": "markdown",
      "id": "628cc6e1",
      "metadata": {
        "id": "628cc6e1"
      },
      "source": [
        "# Обучение модели на базе Bag Of Words"
      ]
    },
    {
      "cell_type": "markdown",
      "id": "b860011a",
      "metadata": {
        "id": "b860011a"
      },
      "source": [
        "Так как классификация будет проводиться по каждому из классов независимо, разбиение на тестовую и обучающую выборки будет проводиться для каждого из классов отдельно"
      ]
    },
    {
      "cell_type": "code",
      "execution_count": 35,
      "id": "1ce7acfb",
      "metadata": {
        "id": "1ce7acfb"
      },
      "outputs": [],
      "source": [
        "import warnings\n",
        "warnings.filterwarnings('ignore')\n",
        "\n",
        "from sklearn.linear_model import LogisticRegression\n",
        "model_class_lr = dict()\n",
        "model_lr_ = LogisticRegression() # Используем модель с параметрами по умолчанию\n",
        "\n",
        "for cl in range(len(requirement_classes)):\n",
        "    model_lr_.fit(X_class_train[requirement_classes[cl]], y_class_train[requirement_classes[cl]])\n",
        "    model_class_lr[requirement_classes[cl]] = model_lr_"
      ]
    },
    {
      "cell_type": "markdown",
      "id": "55f0ee0e",
      "metadata": {
        "id": "55f0ee0e"
      },
      "source": [
        "Наивный Байес"
      ]
    },
    {
      "cell_type": "code",
      "execution_count": 36,
      "id": "0f510739",
      "metadata": {
        "id": "0f510739"
      },
      "outputs": [],
      "source": [
        "from sklearn.naive_bayes import GaussianNB\n",
        "model_nb_ = GaussianNB() # Используем модель с параметрами по умолчанию\n",
        "\n",
        "model_class_nb = dict()\n",
        "for cl in range(len(requirement_classes)):\n",
        "    model_nb_.fit(X_class_train[requirement_classes[cl]], y_class_train[requirement_classes[cl]])\n",
        "    model_class_nb[requirement_classes[cl]] = model_nb_"
      ]
    },
    {
      "cell_type": "markdown",
      "id": "bbaa487a",
      "metadata": {
        "id": "bbaa487a"
      },
      "source": [
        "k-ближайших соседей"
      ]
    },
    {
      "cell_type": "code",
      "execution_count": 37,
      "id": "d3077ed1",
      "metadata": {
        "id": "d3077ed1"
      },
      "outputs": [],
      "source": [
        "from sklearn.neighbors import KNeighborsClassifier\n",
        "model_knn_ = KNeighborsClassifier() # Используем модель с параметрами по умолчанию\n",
        "\n",
        "model_class_knn = dict()\n",
        "for cl in range(len(requirement_classes)):\n",
        "    model_knn_.fit(X_class_train[requirement_classes[cl]], y_class_train[requirement_classes[cl]])\n",
        "    model_class_knn[requirement_classes[cl]] = model_knn_"
      ]
    },
    {
      "cell_type": "markdown",
      "id": "88512971",
      "metadata": {
        "id": "88512971"
      },
      "source": [
        "Метод решающих деревьев"
      ]
    },
    {
      "cell_type": "code",
      "execution_count": 38,
      "id": "d253ec8a",
      "metadata": {
        "id": "d253ec8a"
      },
      "outputs": [],
      "source": [
        "from sklearn.tree import DecisionTreeClassifier\n",
        "model_dtc_ = DecisionTreeClassifier() # Используем модель с параметрами по умолчанию\n",
        "\n",
        "model_class_dtc = dict()\n",
        "for cl in range(len(requirement_classes)):\n",
        "    model_dtc_.fit(X_class_train[requirement_classes[cl]], y_class_train[requirement_classes[cl]])\n",
        "    model_class_dtc[requirement_classes[cl]] = model_dtc_"
      ]
    },
    {
      "cell_type": "markdown",
      "id": "2397622b",
      "metadata": {
        "id": "2397622b"
      },
      "source": [
        "Метод поддерживающих векторов"
      ]
    },
    {
      "cell_type": "code",
      "execution_count": 39,
      "id": "ffbdf11d",
      "metadata": {
        "id": "ffbdf11d"
      },
      "outputs": [],
      "source": [
        "from sklearn.svm import SVC\n",
        "model_svc_ = SVC() # Используем модель с параметрами по умолчанию\n",
        "\n",
        "model_class_svc = dict()\n",
        "for cl in range(len(requirement_classes)):\n",
        "    model_svc_.fit(X_class_train[requirement_classes[cl]], y_class_train[requirement_classes[cl]])\n",
        "    model_class_svc[requirement_classes[cl]] = model_svc_"
      ]
    },
    {
      "cell_type": "markdown",
      "id": "f1040535",
      "metadata": {
        "id": "f1040535"
      },
      "source": [
        "Случайный лес"
      ]
    },
    {
      "cell_type": "code",
      "execution_count": 40,
      "id": "f56d1ac2",
      "metadata": {
        "id": "f56d1ac2"
      },
      "outputs": [],
      "source": [
        "from sklearn.ensemble import RandomForestClassifier\n",
        "model_rf_ = RandomForestClassifier() # Используем модель с параметрами по умолчанию\n",
        "\n",
        "model_class_rf = dict()\n",
        "for cl in range(len(requirement_classes)):\n",
        "    model_rf_.fit(X_class_train[requirement_classes[cl]], y_class_train[requirement_classes[cl]])\n",
        "    model_class_rf[requirement_classes[cl]] = model_rf_"
      ]
    },
    {
      "cell_type": "code",
      "source": [
        "classifier_models = { 'nb' : model_class_nb,\n",
        "                     'knn' : model_class_knn,\n",
        "                     'lr' : model_class_lr,\n",
        "                     'dtc' : model_class_dtc,\n",
        "                     'svc' : model_class_svc,\n",
        "                     'rf' : model_class_rf\n",
        "                     }"
      ],
      "metadata": {
        "id": "2C1k71W1ABIT"
      },
      "id": "2C1k71W1ABIT",
      "execution_count": 170,
      "outputs": []
    },
    {
      "cell_type": "markdown",
      "id": "e68d01ad",
      "metadata": {
        "id": "e68d01ad"
      },
      "source": [
        "## Расчет accuracy and confusion matrix метрик для каждого класса и метода"
      ]
    },
    {
      "cell_type": "code",
      "execution_count": 41,
      "id": "eb11eedd",
      "metadata": {
        "id": "eb11eedd"
      },
      "outputs": [],
      "source": [
        "from sklearn.metrics import accuracy_score"
      ]
    },
    {
      "cell_type": "code",
      "execution_count": 117,
      "id": "ed68a200",
      "metadata": {
        "cellView": "form",
        "id": "ed68a200"
      },
      "outputs": [],
      "source": [
        "#@title linear regression\n",
        "\n",
        "lr_accuracy_test = dict()\n",
        "lr_accuracy_train = dict()\n",
        "lr_train_confusion_matrix = dict()\n",
        "lr_test_confusion_matrix = dict()\n",
        "\n",
        "for cl in requirement_classes:\n",
        "    train_predict = model_class_lr[cl].predict(X_class_train[cl])\n",
        "    test_predict = model_class_lr[cl].predict(X_class_test[cl])\n",
        "\n",
        "    lr_accuracy_train[cl] = accuracy_score(y_class_train[cl], train_predict)\n",
        "    lr_accuracy_test[cl] = accuracy_score(y_class_test[cl], test_predict)\n",
        "\n",
        "    lr_train_confusion_matrix[cl] = metrics.confusion_matrix(y_class_train[cl], train_predict)\n",
        "    lr_test_confusion_matrix[cl] = metrics.confusion_matrix(y_class_test[cl], test_predict)\n",
        "    "
      ]
    },
    {
      "cell_type": "code",
      "execution_count": 118,
      "id": "6d925cc8",
      "metadata": {
        "cellView": "form",
        "id": "6d925cc8"
      },
      "outputs": [],
      "source": [
        "#@title naive bias\n",
        "\n",
        "nb_accuracy_test = dict()\n",
        "nb_accuracy_train = dict()\n",
        "nb_train_confusion_matrix = dict()\n",
        "nb_test_confusion_matrix = dict()\n",
        "\n",
        "for cl in requirement_classes:\n",
        "    train_predict = model_class_nb[cl].predict(X_class_train[cl])\n",
        "    test_predict = model_class_nb[cl].predict(X_class_test[cl])\n",
        "\n",
        "    nb_accuracy_train[cl] = accuracy_score(y_class_train[cl], train_predict)\n",
        "    nb_accuracy_test[cl] = accuracy_score(y_class_test[cl], test_predict)\n",
        "\n",
        "    nb_train_confusion_matrix[cl] = metrics.confusion_matrix(y_class_train[cl], train_predict)\n",
        "    nb_test_confusion_matrix[cl] = metrics.confusion_matrix(y_class_test[cl], test_predict)\n",
        "    "
      ]
    },
    {
      "cell_type": "code",
      "execution_count": 121,
      "id": "b7d47c9b",
      "metadata": {
        "cellView": "form",
        "id": "b7d47c9b"
      },
      "outputs": [],
      "source": [
        "#@title k nearest neighbours\n",
        "\n",
        "knn_accuracy_test = dict()\n",
        "knn_accuracy_train = dict()\n",
        "\n",
        "knn_train_confusion_matrix = dict()\n",
        "knn_test_confusion_matrix = dict()\n",
        "\n",
        "for cl in requirement_classes:\n",
        "    train_predict = model_class_knn[cl].predict(X_class_train[cl])\n",
        "    test_predict = model_class_knn[cl].predict(X_class_test[cl])\n",
        "\n",
        "    knn_accuracy_train[cl] = accuracy_score(y_class_train[cl], train_predict)\n",
        "    knn_accuracy_test[cl] = accuracy_score(y_class_test[cl], test_predict)\n",
        "    \n",
        "    knn_train_confusion_matrix[cl] = metrics.confusion_matrix(y_class_train[cl], train_predict)\n",
        "    knn_test_confusion_matrix[cl] = metrics.confusion_matrix(y_class_test[cl], test_predict)"
      ]
    },
    {
      "cell_type": "code",
      "execution_count": 122,
      "id": "7db2604f",
      "metadata": {
        "cellView": "form",
        "id": "7db2604f"
      },
      "outputs": [],
      "source": [
        "#@title decision trees\n",
        "\n",
        "\n",
        "dtc_accuracy_test = dict()\n",
        "dtc_accuracy_train = dict()\n",
        "dtc_train_confusion_matrix = dict()\n",
        "dtc_test_confusion_matrix = dict()\n",
        "\n",
        "for cl in requirement_classes:\n",
        "    train_predict = model_class_dtc[cl].predict(X_class_train[cl])\n",
        "    test_predict = model_class_dtc[cl].predict(X_class_test[cl])\n",
        "\n",
        "    dtc_accuracy_train[cl] = accuracy_score(y_class_train[cl], train_predict)\n",
        "    dtc_accuracy_test[cl] = accuracy_score(y_class_test[cl], test_predict)\n",
        "\n",
        "    dtc_train_confusion_matrix[cl] = metrics.confusion_matrix(y_class_train[cl], train_predict)\n",
        "    dtc_test_confusion_matrix[cl] = metrics.confusion_matrix(y_class_test[cl], test_predict)\n",
        "    "
      ]
    },
    {
      "cell_type": "code",
      "execution_count": 123,
      "id": "22147c89",
      "metadata": {
        "cellView": "form",
        "id": "22147c89"
      },
      "outputs": [],
      "source": [
        "#@title support vector machine\n",
        "\n",
        "svc_accuracy_test = dict()\n",
        "svc_accuracy_train = dict()\n",
        "svc_train_confusion_matrix = dict()\n",
        "svc_test_confusion_matrix = dict()\n",
        "\n",
        "for cl in requirement_classes:\n",
        "    train_predict = model_class_svc[cl].predict(X_class_train[cl])\n",
        "    test_predict = model_class_svc[cl].predict(X_class_test[cl])\n",
        "\n",
        "    svc_accuracy_train[cl] = accuracy_score(y_class_train[cl], train_predict)\n",
        "    svc_accuracy_test[cl] = accuracy_score(y_class_test[cl], test_predict)\n",
        "    \n",
        "    svc_train_confusion_matrix[cl] = metrics.confusion_matrix(y_class_train[cl], train_predict)\n",
        "    svc_test_confusion_matrix[cl] = metrics.confusion_matrix(y_class_test[cl], test_predict)\n",
        "  "
      ]
    },
    {
      "cell_type": "code",
      "execution_count": 116,
      "id": "c9400a01",
      "metadata": {
        "id": "c9400a01"
      },
      "outputs": [],
      "source": [
        "#@title random forest\n",
        "\n",
        "rf_accuracy_test = dict()\n",
        "rf_accuracy_train = dict()\n",
        "rf_train_confusion_matrix = dict()\n",
        "rf_test_confusion_matrix = dict()\n",
        "\n",
        "for cl in requirement_classes:\n",
        "  train_predict = model_class_rf[cl].predict(X_class_train[cl])\n",
        "  test_predict = model_class_rf[cl].predict(X_class_test[cl])\n",
        "  \n",
        "  rf_accuracy_train[cl] = accuracy_score(y_class_train[cl], train_predict)\n",
        "  rf_accuracy_test[cl] = accuracy_score(y_class_test[cl], test_predict)\n",
        "  \n",
        "  rf_train_confusion_matrix[cl] = metrics.confusion_matrix(y_class_train[cl], train_predict)\n",
        "  rf_test_confusion_matrix[cl] = metrics.confusion_matrix(y_class_test[cl], test_predict)\n",
        "    "
      ]
    },
    {
      "cell_type": "markdown",
      "id": "9e07980b",
      "metadata": {
        "id": "9e07980b"
      },
      "source": [
        "## Confusion matrix"
      ]
    },
    {
      "cell_type": "code",
      "execution_count": 124,
      "id": "b3b23ca6",
      "metadata": {
        "cellView": "form",
        "id": "b3b23ca6"
      },
      "outputs": [],
      "source": [
        "#@title variables declaration\n",
        "classifiers = list({'lr', 'nb', 'knn', 'dtc', 'svc', 'rf'})\n",
        "mean_train_accuracy = dict()\n",
        "mean_test_accuracy = dict()\n",
        "\n",
        "for i in classifiers:\n",
        "    mean_train_accuracy[i] = 0.0\n",
        "    mean_test_accuracy[i] = 0.0"
      ]
    },
    {
      "cell_type": "code",
      "source": [
        "#@title Confusion matrix function definition\n",
        "cf = dict()\n",
        "def confusion_matrix_by_classifier (classifier, confusion_matrix):\n",
        "  cf[classifier] = 0\n",
        "  for cl in requirement_classes:\n",
        "    cf[classifier] += confusion_matrix[cl]\n",
        "  print('confusion matrix for ', classifier, ' classifier:\\n', cf[classifier], '\\n')"
      ],
      "metadata": {
        "cellView": "form",
        "id": "TUttCzUnu1yb"
      },
      "id": "TUttCzUnu1yb",
      "execution_count": 148,
      "outputs": []
    },
    {
      "cell_type": "code",
      "source": [
        "#@title Confusion Matrixes for different classifiers\n",
        "lr_confusionMatrix = confusion_matrix_by_classifier('lr', lr_test_confusion_matrix)\n",
        "nb_confusionMatrix = confusion_matrix_by_classifier('nb', nb_test_confusion_matrix)\n",
        "svc_confusionMatrix = confusion_matrix_by_classifier('svc', svc_test_confusion_matrix)\n",
        "rf_confusionMatrix = confusion_matrix_by_classifier('rf', rf_test_confusion_matrix)\n",
        "dtc_confusion_matrix = confusion_matrix_by_classifier('dtc', dtc_test_confusion_matrix)\n",
        "knn_confusion_matrix = confusion_matrix_by_classifier('knn', knn_test_confusion_matrix)"
      ],
      "metadata": {
        "colab": {
          "base_uri": "https://localhost:8080/"
        },
        "id": "ooXr2Yvk1ZVl",
        "outputId": "e397b7d9-29d2-427f-8f0a-d4eae67e327b"
      },
      "id": "ooXr2Yvk1ZVl",
      "execution_count": 152,
      "outputs": [
        {
          "output_type": "stream",
          "name": "stdout",
          "text": [
            "confusion matrix for  lr  classifier:\n",
            " [[6769   18]\n",
            " [ 414   27]] \n",
            "\n",
            "confusion matrix for  nb  classifier:\n",
            " [[5803  984]\n",
            " [ 240  201]] \n",
            "\n",
            "confusion matrix for  svc  classifier:\n",
            " [[6660  127]\n",
            " [ 434    7]] \n",
            "\n",
            "confusion matrix for  rf  classifier:\n",
            " [[6422  365]\n",
            " [ 366   75]] \n",
            "\n",
            "confusion matrix for  dtc  classifier:\n",
            " [[6312  475]\n",
            " [ 364   77]] \n",
            "\n",
            "confusion matrix for  knn  classifier:\n",
            " [[6514  273]\n",
            " [ 402   39]] \n",
            "\n"
          ]
        }
      ]
    },
    {
      "cell_type": "markdown",
      "source": [
        "##Mean Accuracy"
      ],
      "metadata": {
        "id": "jILiEROD5085"
      },
      "id": "jILiEROD5085"
    },
    {
      "cell_type": "code",
      "execution_count": 154,
      "id": "4214e92f",
      "metadata": {
        "colab": {
          "base_uri": "https://localhost:8080/"
        },
        "id": "4214e92f",
        "outputId": "a8806b49-9bf1-4e7e-d83d-59327975244d"
      },
      "outputs": [
        {
          "output_type": "stream",
          "name": "stdout",
          "text": [
            "Логистическая регрессия\n",
            "mean train accuracy:  0.9831265165382486\n",
            "mean test accuracy:  0.983711847090375\n"
          ]
        }
      ],
      "source": [
        "#@title logistic regression\n",
        "print('Логистическая регрессия')\n",
        "\n",
        "for cl in requirement_classes:\n",
        "    '''\n",
        "    print(cl)\n",
        "    print ('Точность на обучающей выборке: ',lr_accuracy_train[cl])\n",
        "    print('Точность на тестовой выборке: ', lr_accuracy_test[cl], end='\\n\\n')\n",
        "    '''\n",
        "    mean_train_accuracy['lr'] += lr_accuracy_train[cl]\n",
        "    mean_test_accuracy['lr'] += lr_accuracy_test[cl]\n",
        "\n",
        "mean_train_accuracy['lr'] = mean_train_accuracy['lr']/len(requirement_classes)\n",
        "mean_test_accuracy['lr'] = mean_test_accuracy['lr']/len(requirement_classes)\n",
        "\n",
        "print ('mean train accuracy: ', mean_train_accuracy['lr'])\n",
        "print ('mean test accuracy: ', mean_test_accuracy['lr'])"
      ]
    },
    {
      "cell_type": "code",
      "execution_count": 155,
      "id": "c76d6ae5",
      "metadata": {
        "colab": {
          "base_uri": "https://localhost:8080/"
        },
        "cellView": "form",
        "id": "c76d6ae5",
        "outputId": "1e942a0e-3ef9-481f-b840-abad6a94ee8e"
      },
      "outputs": [
        {
          "output_type": "stream",
          "name": "stdout",
          "text": [
            "Наивный Байес\n",
            "mean train accuracy:  0.8285486995019371\n",
            "mean test accuracy:  0.8306585500830106\n"
          ]
        }
      ],
      "source": [
        "#@title naive bias\n",
        "\n",
        "print('Наивный Байес')\n",
        "\n",
        "for cl in requirement_classes:\n",
        "    '''\n",
        "    print(cl)\n",
        "    print ('Точность на обучающей выборке: ',nb_accuracy_train[cl])\n",
        "    print('Точность на тестовой выборке: ', nb_accuracy_test[cl], end='\\n\\n')\n",
        "    '''\n",
        "    mean_train_accuracy['nb'] += nb_accuracy_train[cl]\n",
        "    mean_test_accuracy['nb'] += nb_accuracy_test[cl]\n",
        "mean_train_accuracy['nb'] = mean_train_accuracy['nb']/len(requirement_classes)\n",
        "mean_test_accuracy['nb'] = mean_test_accuracy['nb']/len(requirement_classes)\n",
        "\n",
        "print ('mean train accuracy: ', mean_train_accuracy['nb'])\n",
        "print ('mean test accuracy: ', mean_test_accuracy['nb'])"
      ]
    },
    {
      "cell_type": "code",
      "execution_count": 156,
      "id": "074fbea3",
      "metadata": {
        "colab": {
          "base_uri": "https://localhost:8080/"
        },
        "cellView": "form",
        "id": "074fbea3",
        "outputId": "c8beece7-2d5b-490c-f151-b53bfa43af95"
      },
      "outputs": [
        {
          "output_type": "stream",
          "name": "stdout",
          "text": [
            "k-ближайших соседей\n",
            "mean train accuracy:  0.9043303818483677\n",
            "mean test accuracy:  0.90661317100166\n"
          ]
        }
      ],
      "source": [
        "#@title KNN\n",
        "\n",
        "print('k-ближайших соседей')\n",
        "\n",
        "for cl in requirement_classes:\n",
        "    '''\n",
        "    print(cl)\n",
        "    print ('Точность на обучающей выборке: ',knn_accuracy_train[cl])\n",
        "    print('Точность на тестовой выборке: ', knn_accuracy_test[cl], end='\\n\\n')\n",
        "    '''\n",
        "    mean_train_accuracy['knn'] += knn_accuracy_train[cl]\n",
        "    mean_test_accuracy['knn'] += knn_accuracy_test[cl]\n",
        "mean_train_accuracy['knn'] = mean_train_accuracy['knn']/len(requirement_classes)\n",
        "mean_test_accuracy['knn'] = mean_test_accuracy['knn']/len(requirement_classes)\n",
        "\n",
        "print ('mean train accuracy: ', mean_train_accuracy['knn'])\n",
        "print ('mean test accuracy: ', mean_test_accuracy['knn'])"
      ]
    },
    {
      "cell_type": "code",
      "execution_count": 157,
      "id": "9e583b65",
      "metadata": {
        "colab": {
          "base_uri": "https://localhost:8080/"
        },
        "cellView": "form",
        "id": "9e583b65",
        "outputId": "9ece3594-c649-4bd0-cd18-1465832c923c"
      },
      "outputs": [
        {
          "output_type": "stream",
          "name": "stdout",
          "text": [
            "Метод решающих деревьев\n",
            "mean train accuracy:  0.8811220254565577\n",
            "mean test accuracy:  0.8839236303265081\n"
          ]
        }
      ],
      "source": [
        "#@title decision trees\n",
        "\n",
        "print('Метод решающих деревьев')\n",
        "\n",
        "for cl in requirement_classes:\n",
        "    '''\n",
        "    print(cl)\n",
        "    print ('Точность на обучающей выборке: ',dtc_accuracy_train[cl])\n",
        "    print('Точность на тестовой выборке: ', dtc_accuracy_test[cl], end='\\n\\n')\n",
        "    '''\n",
        "    mean_train_accuracy['dtc'] += dtc_accuracy_train[cl]\n",
        "    mean_test_accuracy['dtc'] += dtc_accuracy_test[cl]\n",
        "mean_train_accuracy['dtc'] = mean_train_accuracy['dtc']/len(requirement_classes)\n",
        "mean_test_accuracy['dtc'] = mean_test_accuracy['dtc']/len(requirement_classes)\n",
        "\n",
        "print ('mean train accuracy: ', mean_train_accuracy['dtc'])\n",
        "print ('mean test accuracy: ', mean_test_accuracy['dtc'])"
      ]
    },
    {
      "cell_type": "code",
      "execution_count": 158,
      "id": "8c1f22d7",
      "metadata": {
        "colab": {
          "base_uri": "https://localhost:8080/"
        },
        "cellView": "form",
        "id": "8c1f22d7",
        "outputId": "513ca6cb-43d9-4196-9868-a6fdf7329f42"
      },
      "outputs": [
        {
          "output_type": "stream",
          "name": "stdout",
          "text": [
            "Метод опорных векторов\n",
            "mean train accuracy:  0.9228002213613724\n",
            "mean test accuracy:  0.9223851687880463\n"
          ]
        }
      ],
      "source": [
        "#@title support vector machine)\n",
        "\n",
        "print('Метод опорных векторов')\n",
        "\n",
        "for cl in requirement_classes:\n",
        "    '''\n",
        "    print(cl)\n",
        "    print ('Точность на обучающей выборке: ',svc_accuracy_train[cl])\n",
        "    print('Точность на тестовой выборке: ', svc_accuracy_test[cl], end='\\n\\n')\n",
        "    '''\n",
        "    mean_train_accuracy['svc'] += svc_accuracy_train[cl]\n",
        "    mean_test_accuracy['svc'] += svc_accuracy_test[cl]\n",
        "mean_train_accuracy['svc'] = mean_train_accuracy['svc']/len(requirement_classes)\n",
        "mean_test_accuracy['svc'] = mean_test_accuracy['svc']/len(requirement_classes)\n",
        "\n",
        "print ('mean train accuracy: ', mean_train_accuracy['svc'])\n",
        "print ('mean test accuracy: ', mean_test_accuracy['svc'])"
      ]
    },
    {
      "cell_type": "code",
      "execution_count": 159,
      "id": "b21def33",
      "metadata": {
        "colab": {
          "base_uri": "https://localhost:8080/"
        },
        "cellView": "form",
        "id": "b21def33",
        "outputId": "f670163f-d810-446c-aa25-50a27ea1327f"
      },
      "outputs": [
        {
          "output_type": "stream",
          "name": "stdout",
          "text": [
            "Случайный лес\n",
            "mean train accuracy:  0.8986925843940232\n",
            "mean test accuracy:  0.8988655229662424\n"
          ]
        }
      ],
      "source": [
        "#@title random forest\n",
        "\n",
        "print('Случайный лес')\n",
        "\n",
        "for cl in requirement_classes:\n",
        "    '''\n",
        "    print(cl)\n",
        "    print ('Точность на обучающей выборке: ',rf_accuracy_train[cl])\n",
        "    print('Точность на тестовой выборке: ', rf_accuracy_test[cl], end='\\n\\n')\n",
        "    '''\n",
        "    mean_train_accuracy['rf'] += rf_accuracy_train[cl]\n",
        "    mean_test_accuracy['rf'] += rf_accuracy_test[cl]\n",
        "mean_train_accuracy['rf'] = mean_train_accuracy['rf']/len(requirement_classes)\n",
        "mean_test_accuracy['rf'] = mean_test_accuracy['rf']/len(requirement_classes)\n",
        "\n",
        "print ('mean train accuracy: ', mean_train_accuracy['rf'])\n",
        "print ('mean test accuracy: ', mean_test_accuracy['rf'])"
      ]
    },
    {
      "cell_type": "markdown",
      "source": [
        "##Precision"
      ],
      "metadata": {
        "id": "ePFey1G-81d5"
      },
      "id": "ePFey1G-81d5"
    },
    {
      "cell_type": "code",
      "source": [
        "# Define the dictionary to store Precision metric for each classifier\n",
        "precision_metrics = {}\n",
        "\n",
        "# Iterate over each classifier and its predictions\n",
        "for classifier_name in classifiers:\n",
        "    precision_metrics[classifier_name] = 0\n",
        "    for cl in requirement_classes:\n",
        "      test_predict = classifier_models[classifier_name][cl].predict(X_class_test[cl])\n",
        "      \n",
        "      precision_metrics[classifier_name] += metrics.precision_score(y_class_test[cl], test_predict)\n",
        "    \n",
        "    precision_metrics[classifier_name] = precision_metrics[classifier_name]/len(requirement_classes)\n",
        "    print(\"precision for \", classifier_name, '\\n', precision_metrics[classifier_name], '\\n')"
      ],
      "metadata": {
        "colab": {
          "base_uri": "https://localhost:8080/"
        },
        "id": "digXrOx79DTX",
        "outputId": "4c7396bf-188b-43dc-d2e6-5130b1e5a30d"
      },
      "id": "digXrOx79DTX",
      "execution_count": 178,
      "outputs": [
        {
          "output_type": "stream",
          "name": "stdout",
          "text": [
            "precision for  svc \n",
            " 0.081002331002331 \n",
            "\n",
            "precision for  nb \n",
            " 0.1795094621525045 \n",
            "\n",
            "precision for  lr \n",
            " 0.451923076923077 \n",
            "\n",
            "precision for  rf \n",
            " 0.18616915105209417 \n",
            "\n",
            "precision for  dtc \n",
            " 0.14253233556961714 \n",
            "\n",
            "precision for  knn \n",
            " 0.10942540717653162 \n",
            "\n"
          ]
        }
      ]
    },
    {
      "cell_type": "markdown",
      "source": [
        "##Recall"
      ],
      "metadata": {
        "id": "yF-YfnR-89JR"
      },
      "id": "yF-YfnR-89JR"
    },
    {
      "cell_type": "code",
      "source": [
        "# Define the dictionary to store Recall metric for each classifier\n",
        "recall_metrics = {}\n",
        "\n",
        "# Iterate over each classifier and its predictions\n",
        "for classifier_name in classifiers:\n",
        "    recall_metrics[classifier_name] = 0\n",
        "    for cl in requirement_classes:\n",
        "        test_predict = classifier_models[classifier_name][cl].predict(X_class_test[cl])\n",
        "        recall_metrics[classifier_name] += metrics.recall_score(y_class_test[cl], test_predict)\n",
        "\n",
        "    recall_metrics[classifier_name] = recall_metrics[classifier_name] / len(requirement_classes)\n",
        "    print(\"Recall for\", classifier_name, \":\\n\", recall_metrics[classifier_name], \"\\n\")\n"
      ],
      "metadata": {
        "colab": {
          "base_uri": "https://localhost:8080/"
        },
        "id": "t_AJjYsG9Dq1",
        "outputId": "4b3eea86-b67b-4bab-8ee1-1591f4067e3a"
      },
      "id": "t_AJjYsG9Dq1",
      "execution_count": 180,
      "outputs": [
        {
          "output_type": "stream",
          "name": "stdout",
          "text": [
            "Recall for svc :\n",
            " 0.007094828248674402 \n",
            "\n",
            "Recall for nb :\n",
            " 0.5781481358960181 \n",
            "\n",
            "Recall for lr :\n",
            " 0.10949115518454153 \n",
            "\n",
            "Recall for rf :\n",
            " 0.20922226056580173 \n",
            "\n",
            "Recall for dtc :\n",
            " 0.1841941816135536 \n",
            "\n",
            "Recall for knn :\n",
            " 0.09887197420150401 \n",
            "\n"
          ]
        }
      ]
    },
    {
      "cell_type": "markdown",
      "source": [
        "##F1"
      ],
      "metadata": {
        "id": "hPHuKjzz884G"
      },
      "id": "hPHuKjzz884G"
    },
    {
      "cell_type": "code",
      "source": [
        "# Define the dictionary to store F1 metric for each classifier\n",
        "f1_metrics = {}\n",
        "\n",
        "# Iterate over each classifier and its predictions\n",
        "for classifier_name in classifiers:\n",
        "    f1_metrics[classifier_name] = 0\n",
        "    for cl in requirement_classes:\n",
        "        test_predict = classifier_models[classifier_name][cl].predict(X_class_test[cl])\n",
        "        f1_metrics[classifier_name] += metrics.f1_score(y_class_test[cl], test_predict)\n",
        "    \n",
        "    f1_metrics[classifier_name] = f1_metrics[classifier_name] / len(requirement_classes)\n",
        "    print(\"F1 metric for\", classifier_name, \":\", f1_metrics[classifier_name])\n"
      ],
      "metadata": {
        "colab": {
          "base_uri": "https://localhost:8080/"
        },
        "id": "RddpH91w9EMD",
        "outputId": "b07c01db-e931-42ee-d3e9-5e7021e29ce8"
      },
      "id": "RddpH91w9EMD",
      "execution_count": 181,
      "outputs": [
        {
          "output_type": "stream",
          "name": "stdout",
          "text": [
            "F1 metric for svc : 0.012880959188259699\n",
            "F1 metric for nb : 0.24476903725718172\n",
            "F1 metric for lr : 0.16449887400032917\n",
            "F1 metric for rf : 0.1763435991886073\n",
            "F1 metric for dtc : 0.1426689243910067\n",
            "F1 metric for knn : 0.09184316304194741\n"
          ]
        }
      ]
    },
    {
      "cell_type": "markdown",
      "id": "d2205fdc",
      "metadata": {
        "id": "d2205fdc"
      },
      "source": [
        "# Визуализация результатов"
      ]
    },
    {
      "cell_type": "markdown",
      "id": "f2efa515",
      "metadata": {
        "id": "f2efa515"
      },
      "source": [
        "методом линейной регрессии получилась следующая точность классификации для каждого класса:"
      ]
    },
    {
      "cell_type": "code",
      "execution_count": 98,
      "id": "d928a6b4",
      "metadata": {
        "scrolled": true,
        "colab": {
          "base_uri": "https://localhost:8080/",
          "height": 903
        },
        "id": "d928a6b4",
        "outputId": "58f9f615-fa35-4b9d-accf-375b93c1f019"
      },
      "outputs": [
        {
          "output_type": "display_data",
          "data": {
            "text/plain": [
              "<Figure size 1200x600 with 1 Axes>"
            ],
            "image/png": "[encoded data removed]"
          },
          "metadata": {}
        }
      ],
      "source": [
        "plt.style.use('seaborn')\n",
        "\n",
        "plt.figure(figsize=(12,6))\n",
        "plt.bar(requirement_classes,lr_accuracy_test.values(), width=0.6)\n",
        "plt.title('Точность линейной регрессионной классификации для каждого класса требований')\n",
        "a = plt.xticks(rotation=90)\n",
        "plt.axhline(0.8,c='r',linestyle='--',label='0.8')\n",
        "plt.axhline(0.85,c='w',linestyle='--',label='0.85')\n",
        "plt.axhline(0.9,c='black',linestyle='--',label='0.9')\n",
        "plt.ylim(0.7, 1.05) # adjust y axis limits\n",
        "plt.legend()\n",
        "plt.xlabel('Requirement class')\n",
        "plt.ylabel('Accuracy score')\n",
        "plt.show()"
      ]
    },
    {
      "cell_type": "code",
      "execution_count": 184,
      "id": "bf81b442",
      "metadata": {
        "colab": {
          "base_uri": "https://localhost:8080/",
          "height": 509
        },
        "id": "bf81b442",
        "outputId": "163b32aa-009e-4de9-9a26-e750d5e2352e"
      },
      "outputs": [
        {
          "output_type": "display_data",
          "data": {
            "text/plain": [
              "<Figure size 1200x600 with 1 Axes>"
            ],
            "image/png": "[encoded data removed]"
          },
          "metadata": {}
        }
      ],
      "source": [
        "plt.style.use('seaborn')\n",
        "\n",
        "plt.figure(figsize=(12,6))\n",
        "plt.bar(classifiers,mean_test_accuracy.values(),width=0.6, color={'red','green','blue','purple', 'skyblue','darkblue'})\n",
        "plt.title('Methods Accuracy')\n",
        "plt.axhline(0.8,c='r',linestyle='--',label='0.8')\n",
        "plt.axhline(0.85,c='w',linestyle='--',label='0.85')\n",
        "plt.axhline(0.9,c='black',linestyle='--',label='0.9')\n",
        "plt.legend()\n",
        "plt.autoscale()\n",
        "plt.xlabel('Method')\n",
        "plt.ylabel('Accuracy score')\n",
        "plt.show()"
      ]
    },
    {
      "cell_type": "code",
      "source": [
        "plt.style.use('seaborn')\n",
        "\n",
        "plt.figure(figsize=(12,6))\n",
        "plt.bar(classifiers, f1_metrics.values(), width=0.6, color={'red','green','blue','purple', 'skyblue','darkblue'})\n",
        "plt.title('Methods F1 Score')\n",
        "plt.legend()\n",
        "plt.autoscale()\n",
        "plt.xlabel('Method')\n",
        "plt.ylabel('F1 Score')\n",
        "plt.show()\n"
      ],
      "metadata": {
        "colab": {
          "base_uri": "https://localhost:8080/",
          "height": 542
        },
        "id": "_aRgL9XvFpK0",
        "outputId": "7a52cbec-16ee-48a2-c638-37a9910454e8"
      },
      "id": "_aRgL9XvFpK0",
      "execution_count": 186,
      "outputs": [
        {
          "output_type": "stream",
          "name": "stderr",
          "text": [
            "WARNING:matplotlib.legend:No artists with labels found to put in legend.  Note that artists whose label start with an underscore are ignored when legend() is called with no argument.\n"
          ]
        },
        {
          "output_type": "display_data",
          "data": {
            "text/plain": [
              "<Figure size 1200x600 with 1 Axes>"
            ],
            "image/png": "[encoded data removed]"
          },
          "metadata": {}
        }
      ]
    },
    {
      "cell_type": "code",
      "execution_count": null,
      "id": "e91aba4a",
      "metadata": {
        "id": "e91aba4a"
      },
      "outputs": [],
      "source": [
        "print ('method', '\\t', 'train accuracy', '\\t', 'test accuracy', '\\n')\n",
        "for i in classifiers:\n",
        "    print (i, '\\t', mean_train_accuracy[i], '\\t', mean_test_accuracy[i])"
      ]
    }
  ],
  "metadata": {
    "kernelspec": {
      "display_name": "Python 3",
      "language": "python",
      "name": "python3"
    },
    "language_info": {
      "codemirror_mode": {
        "name": "ipython",
        "version": 3
      },
      "file_extension": ".py",
      "mimetype": "text/x-python",
      "name": "python",
      "nbconvert_exporter": "python",
      "pygments_lexer": "ipython3",
      "version": "3.8.8"
    },
    "colab": {
      "provenance": [],
      "toc_visible": true,
      "include_colab_link": true
    }
  },
  "nbformat": 4,
  "nbformat_minor": 5
}